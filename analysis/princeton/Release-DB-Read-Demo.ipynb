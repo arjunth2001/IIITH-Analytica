{
 "cells": [
  {
   "cell_type": "markdown",
   "metadata": {},
   "source": [
    "## Merge database tables into a flat dataframe"
   ]
  },
  {
   "cell_type": "code",
   "execution_count": 1,
   "metadata": {},
   "outputs": [],
   "source": [
    "import sqlite3\n",
    "import pandas as pd\n",
    "from tqdm.auto import tqdm\n",
    "tqdm.pandas()\n",
    "pd.set_option(\"display.max_colwidth\", 60)\n",
    "pd.set_option(\"display.max_rows\", 100)"
   ]
  },
  {
   "cell_type": "code",
   "execution_count": 2,
   "metadata": {},
   "outputs": [],
   "source": [
    "RELEASE_DB_NAME = \"/scratch/arjunth2001/princeton/release_db.sqlite\"\n",
    "conn = sqlite3.connect(RELEASE_DB_NAME)"
   ]
  },
  {
   "cell_type": "markdown",
   "metadata": {},
   "source": [
    "### Read in the tables"
   ]
  },
  {
   "cell_type": "code",
   "execution_count": 3,
   "metadata": {},
   "outputs": [],
   "source": [
    "# we'll merge everything into this dataframe\n",
    "df = pd.read_sql_query(\"SELECT * FROM policy_snapshots\", conn)\n",
    "\n",
    "sites_df = pd.read_sql_query(\"SELECT * FROM sites\", conn)\n",
    "policy_texts_df = pd.read_sql_query(\"SELECT * FROM policy_texts\", conn)\n",
    "alexa_ranks_df = pd.read_sql_query(\"SELECT * FROM alexa_ranks\", conn)"
   ]
  },
  {
   "cell_type": "code",
   "execution_count": 4,
   "metadata": {},
   "outputs": [],
   "source": [
    "# Left join with policy text table\n",
    "df = pd.merge(df, policy_texts_df, how=\"left\", left_on=\"policy_text_id\", right_on=\"id\")\n",
    "\n",
    "# Left join with sites table\n",
    "df = pd.merge(df, sites_df, how=\"left\", left_on=\"site_id\", right_on=\"id\")\n",
    "\n",
    "# Left join with alexa ranks table\n",
    "df = pd.merge(df, alexa_ranks_df, how=\"left\", on=['site_id', 'year', 'phase'])"
   ]
  },
  {
   "cell_type": "code",
   "execution_count": 5,
   "metadata": {},
   "outputs": [
    {
     "data": {
      "text/plain": [
       "29"
      ]
     },
     "execution_count": 5,
     "metadata": {},
     "output_type": "execute_result"
    }
   ],
   "source": [
    "len([i for i in df.head(4)[\"policy_text\"][0].split(\"\\n\") if len(i)!=0 and i!=\"\" and len(i.split())>=15])"
   ]
  },
  {
   "cell_type": "code",
   "execution_count": 8,
   "metadata": {},
   "outputs": [],
   "source": [
    "df2 = df.sample(10000)"
   ]
  },
  {
   "cell_type": "code",
   "execution_count": 11,
   "metadata": {},
   "outputs": [
    {
     "data": {
      "application/vnd.jupyter.widget-view+json": {
       "model_id": "c1a0f1e871e14994ba660c8036c29ad4",
       "version_major": 2,
       "version_minor": 0
      },
      "text/plain": [
       "  0%|          | 0/10000 [00:00<?, ?it/s]"
      ]
     },
     "metadata": {},
     "output_type": "display_data"
    }
   ],
   "source": [
    "import random\n",
    "def get_sample(x):\n",
    "    try:\n",
    "        return random.choice([i for i in x.split(\"\\n\") if len(i)!=0 and i!=\"\" and len(i.split())>=10])\n",
    "    except:\n",
    "        return [i for i in x.split(\"\\n\") if len(i)!=0 and i!=\"\"][0]\n",
    "                        \n",
    "df2[\"sample\"] = df2[\"policy_text\"].progress_apply(lambda x:get_sample(x))"
   ]
  },
  {
   "cell_type": "code",
   "execution_count": 12,
   "metadata": {},
   "outputs": [],
   "source": [
    "df2 = df2.reset_index()"
   ]
  },
  {
   "cell_type": "code",
   "execution_count": 13,
   "metadata": {},
   "outputs": [],
   "source": [
    "df2.to_csv(\"annotate.csv\")"
   ]
  },
  {
   "cell_type": "code",
   "execution_count": null,
   "metadata": {},
   "outputs": [],
   "source": []
  }
 ],
 "metadata": {
  "kernelspec": {
   "display_name": "Python 3 (ipykernel)",
   "language": "python",
   "name": "python3"
  },
  "language_info": {
   "codemirror_mode": {
    "name": "ipython",
    "version": 3
   },
   "file_extension": ".py",
   "mimetype": "text/x-python",
   "name": "python",
   "nbconvert_exporter": "python",
   "pygments_lexer": "ipython3",
   "version": "3.7.0"
  }
 },
 "nbformat": 4,
 "nbformat_minor": 4
}

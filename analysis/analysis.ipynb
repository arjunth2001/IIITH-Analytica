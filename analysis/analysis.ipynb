{
 "cells": [
  {
   "cell_type": "code",
   "execution_count": 1,
   "id": "8f3c38e5-3cb0-4535-b72c-c01fb6d49654",
   "metadata": {},
   "outputs": [],
   "source": [
    "import readability"
   ]
  },
  {
   "cell_type": "code",
   "execution_count": 2,
   "id": "eee62d6a-c4c6-4d9b-93cb-0ed1d5e9d854",
   "metadata": {},
   "outputs": [],
   "source": [
    "text = ('This is an example sentence .\\n'\n",
    "        'Note that tokens are separated by spaces and sentences by newlines .\\n')"
   ]
  },
  {
   "cell_type": "code",
   "execution_count": 3,
   "id": "298f0f55-34d6-4f0c-9511-fcd481eda5af",
   "metadata": {},
   "outputs": [],
   "source": [
    "results = readability.getmeasures(text, lang='en')"
   ]
  },
  {
   "cell_type": "code",
   "execution_count": 17,
   "id": "b4f4ba8f-8248-445c-9aba-cb6008b8564a",
   "metadata": {},
   "outputs": [
    {
     "data": {
      "text/plain": [
       "9.954550000000001"
      ]
     },
     "execution_count": 17,
     "metadata": {},
     "output_type": "execute_result"
    }
   ],
   "source": [
    "results[\"readability grades\"][\"DaleChallIndex\"]"
   ]
  },
  {
   "cell_type": "code",
   "execution_count": 5,
   "id": "40178695-f52f-4c99-aaf4-952ebff977dc",
   "metadata": {},
   "outputs": [],
   "source": [
    "import pandas as pd"
   ]
  },
  {
   "cell_type": "code",
   "execution_count": 26,
   "id": "d43e6a89-cb85-4419-9fa5-9444423023aa",
   "metadata": {},
   "outputs": [],
   "source": [
    "df = pd.read_csv(\"fortune500_policies.csv\")"
   ]
  },
  {
   "cell_type": "code",
   "execution_count": 27,
   "id": "76b9582a-19e6-488e-ad2e-5d15cf23813c",
   "metadata": {},
   "outputs": [
    {
     "data": {
      "application/vnd.jupyter.widget-view+json": {
       "model_id": "b569e44f234d4e93b4fe2d23a18271bd",
       "version_major": 2,
       "version_minor": 0
      },
      "text/plain": [
       "  0%|          | 0/485 [00:00<?, ?it/s]"
      ]
     },
     "metadata": {},
     "output_type": "display_data"
    }
   ],
   "source": [
    "from tqdm.auto import tqdm\n",
    "tqdm.pandas()\n",
    "def fun(x):\n",
    "    try:\n",
    "        ret = readability.getmeasures([s+\" \\n\" for s in (\".\".join(eval(x))).split(\".\")],lang='en')[\"readability grades\"][\"DaleChallIndex\"]\n",
    "    except:\n",
    "        ret = 0\n",
    "    return ret\n",
    "        \n",
    "df[\"readability\"] = df[\"body\"].progress_apply(lambda x:fun(x))"
   ]
  },
  {
   "cell_type": "code",
   "execution_count": 28,
   "id": "3b8e4cc7-6311-45e1-b151-d06b73c20214",
   "metadata": {},
   "outputs": [
    {
     "data": {
      "text/html": [
       "<div>\n",
       "<style scoped>\n",
       "    .dataframe tbody tr th:only-of-type {\n",
       "        vertical-align: middle;\n",
       "    }\n",
       "\n",
       "    .dataframe tbody tr th {\n",
       "        vertical-align: top;\n",
       "    }\n",
       "\n",
       "    .dataframe thead th {\n",
       "        text-align: right;\n",
       "    }\n",
       "</style>\n",
       "<table border=\"1\" class=\"dataframe\">\n",
       "  <thead>\n",
       "    <tr style=\"text-align: right;\">\n",
       "      <th></th>\n",
       "      <th>name</th>\n",
       "      <th>body</th>\n",
       "      <th>readability</th>\n",
       "    </tr>\n",
       "  </thead>\n",
       "  <tbody>\n",
       "    <tr>\n",
       "      <th>0</th>\n",
       "      <td>468_www_ameren_com</td>\n",
       "      <td>['Select your state to personalize your experi...</td>\n",
       "      <td>11.301208</td>\n",
       "    </tr>\n",
       "    <tr>\n",
       "      <th>1</th>\n",
       "      <td>170_www_fcx_com</td>\n",
       "      <td>['Freeport-McMoRan ONLINE PRIVACY NOTICE | Fre...</td>\n",
       "      <td>11.273753</td>\n",
       "    </tr>\n",
       "    <tr>\n",
       "      <th>2</th>\n",
       "      <td>90_agreementservice_svs_nike_com</td>\n",
       "      <td>['This privacy policy describes the personal d...</td>\n",
       "      <td>10.890708</td>\n",
       "    </tr>\n",
       "    <tr>\n",
       "      <th>3</th>\n",
       "      <td>208_www_jacobs_com</td>\n",
       "      <td>['Privacy Statement &amp; Terms of Use | Jacobs', ...</td>\n",
       "      <td>11.235503</td>\n",
       "    </tr>\n",
       "    <tr>\n",
       "      <th>4</th>\n",
       "      <td>261_www_jcpenney_com</td>\n",
       "      <td>['Information we collect and how we collect it...</td>\n",
       "      <td>11.201629</td>\n",
       "    </tr>\n",
       "    <tr>\n",
       "      <th>...</th>\n",
       "      <td>...</td>\n",
       "      <td>...</td>\n",
       "      <td>...</td>\n",
       "    </tr>\n",
       "    <tr>\n",
       "      <th>480</th>\n",
       "      <td>165_www_avnet_com</td>\n",
       "      <td>['Global Data Protection Policy | Avnet', 'Sug...</td>\n",
       "      <td>11.743970</td>\n",
       "    </tr>\n",
       "    <tr>\n",
       "      <th>481</th>\n",
       "      <td>211_www_mmc_com</td>\n",
       "      <td>['Marsh &amp; McLennan Companies, Inc. (the “Compa...</td>\n",
       "      <td>10.619660</td>\n",
       "    </tr>\n",
       "    <tr>\n",
       "      <th>482</th>\n",
       "      <td>435_www_ajg_com</td>\n",
       "      <td>['Government, K-12 Schools &amp; Public Entities',...</td>\n",
       "      <td>11.189474</td>\n",
       "    </tr>\n",
       "    <tr>\n",
       "      <th>483</th>\n",
       "      <td>458_www_dillards_com</td>\n",
       "      <td>['PICK UP IN STORE NOW AVAILABLE! Free shippin...</td>\n",
       "      <td>10.459204</td>\n",
       "    </tr>\n",
       "    <tr>\n",
       "      <th>484</th>\n",
       "      <td>111_www_northwesternmutual_com</td>\n",
       "      <td>['Online Privacy Statement | Northwestern Mutu...</td>\n",
       "      <td>11.360771</td>\n",
       "    </tr>\n",
       "  </tbody>\n",
       "</table>\n",
       "<p>485 rows × 3 columns</p>\n",
       "</div>"
      ],
      "text/plain": [
       "                                 name  \\\n",
       "0                  468_www_ameren_com   \n",
       "1                     170_www_fcx_com   \n",
       "2    90_agreementservice_svs_nike_com   \n",
       "3                  208_www_jacobs_com   \n",
       "4                261_www_jcpenney_com   \n",
       "..                                ...   \n",
       "480                 165_www_avnet_com   \n",
       "481                   211_www_mmc_com   \n",
       "482                   435_www_ajg_com   \n",
       "483              458_www_dillards_com   \n",
       "484    111_www_northwesternmutual_com   \n",
       "\n",
       "                                                  body  readability  \n",
       "0    ['Select your state to personalize your experi...    11.301208  \n",
       "1    ['Freeport-McMoRan ONLINE PRIVACY NOTICE | Fre...    11.273753  \n",
       "2    ['This privacy policy describes the personal d...    10.890708  \n",
       "3    ['Privacy Statement & Terms of Use | Jacobs', ...    11.235503  \n",
       "4    ['Information we collect and how we collect it...    11.201629  \n",
       "..                                                 ...          ...  \n",
       "480  ['Global Data Protection Policy | Avnet', 'Sug...    11.743970  \n",
       "481  ['Marsh & McLennan Companies, Inc. (the “Compa...    10.619660  \n",
       "482  ['Government, K-12 Schools & Public Entities',...    11.189474  \n",
       "483  ['PICK UP IN STORE NOW AVAILABLE! Free shippin...    10.459204  \n",
       "484  ['Online Privacy Statement | Northwestern Mutu...    11.360771  \n",
       "\n",
       "[485 rows x 3 columns]"
      ]
     },
     "execution_count": 28,
     "metadata": {},
     "output_type": "execute_result"
    }
   ],
   "source": [
    "df"
   ]
  },
  {
   "cell_type": "code",
   "execution_count": 29,
   "id": "edc9443d-fa0d-4a24-955f-5a87e8ea9bad",
   "metadata": {},
   "outputs": [
    {
     "data": {
      "application/vnd.jupyter.widget-view+json": {
       "model_id": "5821673e65bf4537abb92edbc31eae1b",
       "version_major": 2,
       "version_minor": 0
      },
      "text/plain": [
       "  0%|          | 0/485 [00:00<?, ?it/s]"
      ]
     },
     "metadata": {},
     "output_type": "display_data"
    }
   ],
   "source": [
    "df[\"words\"] = df[\"body\"].progress_apply(lambda x:len(x.split()))"
   ]
  },
  {
   "cell_type": "code",
   "execution_count": 30,
   "id": "2bf1d18f-fbd9-4ae8-887a-00018f402094",
   "metadata": {},
   "outputs": [
    {
     "data": {
      "text/html": [
       "<div>\n",
       "<style scoped>\n",
       "    .dataframe tbody tr th:only-of-type {\n",
       "        vertical-align: middle;\n",
       "    }\n",
       "\n",
       "    .dataframe tbody tr th {\n",
       "        vertical-align: top;\n",
       "    }\n",
       "\n",
       "    .dataframe thead th {\n",
       "        text-align: right;\n",
       "    }\n",
       "</style>\n",
       "<table border=\"1\" class=\"dataframe\">\n",
       "  <thead>\n",
       "    <tr style=\"text-align: right;\">\n",
       "      <th></th>\n",
       "      <th>name</th>\n",
       "      <th>body</th>\n",
       "      <th>readability</th>\n",
       "      <th>words</th>\n",
       "    </tr>\n",
       "  </thead>\n",
       "  <tbody>\n",
       "    <tr>\n",
       "      <th>0</th>\n",
       "      <td>468_www_ameren_com</td>\n",
       "      <td>['Select your state to personalize your experi...</td>\n",
       "      <td>11.301208</td>\n",
       "      <td>3328</td>\n",
       "    </tr>\n",
       "    <tr>\n",
       "      <th>1</th>\n",
       "      <td>170_www_fcx_com</td>\n",
       "      <td>['Freeport-McMoRan ONLINE PRIVACY NOTICE | Fre...</td>\n",
       "      <td>11.273753</td>\n",
       "      <td>2222</td>\n",
       "    </tr>\n",
       "    <tr>\n",
       "      <th>2</th>\n",
       "      <td>90_agreementservice_svs_nike_com</td>\n",
       "      <td>['This privacy policy describes the personal d...</td>\n",
       "      <td>10.890708</td>\n",
       "      <td>2887</td>\n",
       "    </tr>\n",
       "    <tr>\n",
       "      <th>3</th>\n",
       "      <td>208_www_jacobs_com</td>\n",
       "      <td>['Privacy Statement &amp; Terms of Use | Jacobs', ...</td>\n",
       "      <td>11.235503</td>\n",
       "      <td>2237</td>\n",
       "    </tr>\n",
       "    <tr>\n",
       "      <th>4</th>\n",
       "      <td>261_www_jcpenney_com</td>\n",
       "      <td>['Information we collect and how we collect it...</td>\n",
       "      <td>11.201629</td>\n",
       "      <td>5037</td>\n",
       "    </tr>\n",
       "    <tr>\n",
       "      <th>...</th>\n",
       "      <td>...</td>\n",
       "      <td>...</td>\n",
       "      <td>...</td>\n",
       "      <td>...</td>\n",
       "    </tr>\n",
       "    <tr>\n",
       "      <th>480</th>\n",
       "      <td>165_www_avnet_com</td>\n",
       "      <td>['Global Data Protection Policy | Avnet', 'Sug...</td>\n",
       "      <td>11.743970</td>\n",
       "      <td>4804</td>\n",
       "    </tr>\n",
       "    <tr>\n",
       "      <th>481</th>\n",
       "      <td>211_www_mmc_com</td>\n",
       "      <td>['Marsh &amp; McLennan Companies, Inc. (the “Compa...</td>\n",
       "      <td>10.619660</td>\n",
       "      <td>2060</td>\n",
       "    </tr>\n",
       "    <tr>\n",
       "      <th>482</th>\n",
       "      <td>435_www_ajg_com</td>\n",
       "      <td>['Government, K-12 Schools &amp; Public Entities',...</td>\n",
       "      <td>11.189474</td>\n",
       "      <td>6658</td>\n",
       "    </tr>\n",
       "    <tr>\n",
       "      <th>483</th>\n",
       "      <td>458_www_dillards_com</td>\n",
       "      <td>['PICK UP IN STORE NOW AVAILABLE! Free shippin...</td>\n",
       "      <td>10.459204</td>\n",
       "      <td>1878</td>\n",
       "    </tr>\n",
       "    <tr>\n",
       "      <th>484</th>\n",
       "      <td>111_www_northwesternmutual_com</td>\n",
       "      <td>['Online Privacy Statement | Northwestern Mutu...</td>\n",
       "      <td>11.360771</td>\n",
       "      <td>2837</td>\n",
       "    </tr>\n",
       "  </tbody>\n",
       "</table>\n",
       "<p>485 rows × 4 columns</p>\n",
       "</div>"
      ],
      "text/plain": [
       "                                 name  \\\n",
       "0                  468_www_ameren_com   \n",
       "1                     170_www_fcx_com   \n",
       "2    90_agreementservice_svs_nike_com   \n",
       "3                  208_www_jacobs_com   \n",
       "4                261_www_jcpenney_com   \n",
       "..                                ...   \n",
       "480                 165_www_avnet_com   \n",
       "481                   211_www_mmc_com   \n",
       "482                   435_www_ajg_com   \n",
       "483              458_www_dillards_com   \n",
       "484    111_www_northwesternmutual_com   \n",
       "\n",
       "                                                  body  readability  words  \n",
       "0    ['Select your state to personalize your experi...    11.301208   3328  \n",
       "1    ['Freeport-McMoRan ONLINE PRIVACY NOTICE | Fre...    11.273753   2222  \n",
       "2    ['This privacy policy describes the personal d...    10.890708   2887  \n",
       "3    ['Privacy Statement & Terms of Use | Jacobs', ...    11.235503   2237  \n",
       "4    ['Information we collect and how we collect it...    11.201629   5037  \n",
       "..                                                 ...          ...    ...  \n",
       "480  ['Global Data Protection Policy | Avnet', 'Sug...    11.743970   4804  \n",
       "481  ['Marsh & McLennan Companies, Inc. (the “Compa...    10.619660   2060  \n",
       "482  ['Government, K-12 Schools & Public Entities',...    11.189474   6658  \n",
       "483  ['PICK UP IN STORE NOW AVAILABLE! Free shippin...    10.459204   1878  \n",
       "484  ['Online Privacy Statement | Northwestern Mutu...    11.360771   2837  \n",
       "\n",
       "[485 rows x 4 columns]"
      ]
     },
     "execution_count": 30,
     "metadata": {},
     "output_type": "execute_result"
    }
   ],
   "source": [
    "df"
   ]
  },
  {
   "cell_type": "code",
   "execution_count": 31,
   "id": "80dc4ba6-3ce0-4681-8788-d79a23fcbf43",
   "metadata": {},
   "outputs": [],
   "source": [
    "df.to_csv(\"fortune500_policies.csv\",index=False)"
   ]
  },
  {
   "cell_type": "code",
   "execution_count": null,
   "id": "577302be-5adf-4e33-8295-d735d1234284",
   "metadata": {},
   "outputs": [],
   "source": []
  }
 ],
 "metadata": {
  "kernelspec": {
   "display_name": "Python 3",
   "language": "python",
   "name": "python3"
  },
  "language_info": {
   "codemirror_mode": {
    "name": "ipython",
    "version": 3
   },
   "file_extension": ".py",
   "mimetype": "text/x-python",
   "name": "python",
   "nbconvert_exporter": "python",
   "pygments_lexer": "ipython3",
   "version": "3.7.11"
  }
 },
 "nbformat": 4,
 "nbformat_minor": 5
}

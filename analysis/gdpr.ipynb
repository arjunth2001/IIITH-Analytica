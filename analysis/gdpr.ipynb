{
 "cells": [
  {
   "cell_type": "code",
   "execution_count": 1,
   "id": "671b1180-d3e6-44e4-a9de-1321b491f078",
   "metadata": {},
   "outputs": [],
   "source": [
    "import os"
   ]
  },
  {
   "cell_type": "code",
   "execution_count": 3,
   "id": "3539596f-dabd-4ad8-a793-32dc78f39ad1",
   "metadata": {},
   "outputs": [],
   "source": [
    "EU=[i for i in os.listdir(\"GDPR/EU_Output\") if \".txt\" in i]"
   ]
  },
  {
   "cell_type": "code",
   "execution_count": 5,
   "id": "7f2b6ab9-5624-478b-a5f3-e2467193e343",
   "metadata": {},
   "outputs": [],
   "source": [
    "NEU=[i for i in os.listdir(\"GDPR/Non_EU_output\") if \".txt\" in i]"
   ]
  },
  {
   "cell_type": "code",
   "execution_count": 6,
   "id": "c1658b66-7a44-48fc-8109-75840d579a50",
   "metadata": {},
   "outputs": [],
   "source": [
    "common = list(set(EU)&set(NEU))"
   ]
  },
  {
   "cell_type": "code",
   "execution_count": 8,
   "id": "fc2cb6bc-0f05-4818-abd0-e3a73ca7785c",
   "metadata": {},
   "outputs": [
    {
     "data": {
      "text/plain": [
       "621"
      ]
     },
     "execution_count": 8,
     "metadata": {},
     "output_type": "execute_result"
    }
   ],
   "source": [
    "len(common)"
   ]
  },
  {
   "cell_type": "code",
   "execution_count": 17,
   "id": "d7e03498-670d-475b-9a7f-ee763290b51b",
   "metadata": {},
   "outputs": [],
   "source": [
    "gtext=[]\n",
    "ngtext=[]\n",
    "files=[]\n",
    "for file in common:\n",
    "    with open(f\"GDPR/EU_Output/{file}\") as f:\n",
    "        lines1 = f.read().split(\"\\n\")\n",
    "        lines1= [l for l in lines1 if len(l.split())>15]\n",
    "        \n",
    "    with open(f\"GDPR/Non_EU_output/{file}\") as f:\n",
    "        lines2 = f.read().split(\"\\n\")\n",
    "        lines2 = [l for l in lines2 if len(l.split())>15]\n",
    "        if len(lines1)!=0 and len(lines2)!=0:\n",
    "            gtext.append(lines1)\n",
    "            ngtext.append(lines2)\n",
    "            files.append(file)"
   ]
  },
  {
   "cell_type": "code",
   "execution_count": 18,
   "id": "1383b581-f523-4fde-a13e-0c4409beaca0",
   "metadata": {},
   "outputs": [],
   "source": [
    "import pandas as pd"
   ]
  },
  {
   "cell_type": "code",
   "execution_count": 19,
   "id": "6a8ea91d-eaba-4045-bc69-5241b52ccf5e",
   "metadata": {},
   "outputs": [],
   "source": [
    "df = pd.DataFrame({\"GDPR_Text\":gtext,\"NGDPR_Text\":ngtext,\"file\":file})"
   ]
  },
  {
   "cell_type": "code",
   "execution_count": 20,
   "id": "2c1aaf9d-f3b1-4497-9abf-12bfac333189",
   "metadata": {},
   "outputs": [
    {
     "data": {
      "text/html": [
       "<div>\n",
       "<style scoped>\n",
       "    .dataframe tbody tr th:only-of-type {\n",
       "        vertical-align: middle;\n",
       "    }\n",
       "\n",
       "    .dataframe tbody tr th {\n",
       "        vertical-align: top;\n",
       "    }\n",
       "\n",
       "    .dataframe thead th {\n",
       "        text-align: right;\n",
       "    }\n",
       "</style>\n",
       "<table border=\"1\" class=\"dataframe\">\n",
       "  <thead>\n",
       "    <tr style=\"text-align: right;\">\n",
       "      <th></th>\n",
       "      <th>GDPR_Text</th>\n",
       "      <th>NGDPR_Text</th>\n",
       "      <th>file</th>\n",
       "    </tr>\n",
       "  </thead>\n",
       "  <tbody>\n",
       "    <tr>\n",
       "      <th>0</th>\n",
       "      <td>[To enable your access to the JSTOR and Portic...</td>\n",
       "      <td>[To enable your access to the JSTOR and Portic...</td>\n",
       "      <td>www.outdoorchannel.com.txt</td>\n",
       "    </tr>\n",
       "    <tr>\n",
       "      <th>1</th>\n",
       "      <td>[To provide you with additional information ab...</td>\n",
       "      <td>[To provide you with additional information ab...</td>\n",
       "      <td>www.outdoorchannel.com.txt</td>\n",
       "    </tr>\n",
       "    <tr>\n",
       "      <th>2</th>\n",
       "      <td>[Want to take control of your home repair emer...</td>\n",
       "      <td>[Want to take control of your home repair emer...</td>\n",
       "      <td>www.outdoorchannel.com.txt</td>\n",
       "    </tr>\n",
       "    <tr>\n",
       "      <th>3</th>\n",
       "      <td>[If you are a copyright owner or an agent ther...</td>\n",
       "      <td>[If you are a copyright owner or an agent ther...</td>\n",
       "      <td>www.outdoorchannel.com.txt</td>\n",
       "    </tr>\n",
       "    <tr>\n",
       "      <th>4</th>\n",
       "      <td>[Privacy Policy from Victoriassecret.com. The ...</td>\n",
       "      <td>[Privacy Policy from Victoriassecret.com. The ...</td>\n",
       "      <td>www.outdoorchannel.com.txt</td>\n",
       "    </tr>\n",
       "    <tr>\n",
       "      <th>...</th>\n",
       "      <td>...</td>\n",
       "      <td>...</td>\n",
       "      <td>...</td>\n",
       "    </tr>\n",
       "    <tr>\n",
       "      <th>577</th>\n",
       "      <td>[This Privacy Policy describes how Slack colle...</td>\n",
       "      <td>[This Privacy Policy describes how Slack colle...</td>\n",
       "      <td>www.outdoorchannel.com.txt</td>\n",
       "    </tr>\n",
       "    <tr>\n",
       "      <th>578</th>\n",
       "      <td>[Privacy Policy from Bettycrocker.com. The liv...</td>\n",
       "      <td>[Privacy Policy from Bettycrocker.com. The liv...</td>\n",
       "      <td>www.outdoorchannel.com.txt</td>\n",
       "    </tr>\n",
       "    <tr>\n",
       "      <th>579</th>\n",
       "      <td>[Subway.com would like to place cookies on you...</td>\n",
       "      <td>[Subway.com would like to place cookies on you...</td>\n",
       "      <td>www.outdoorchannel.com.txt</td>\n",
       "    </tr>\n",
       "    <tr>\n",
       "      <th>580</th>\n",
       "      <td>[This website or its third-party tools use coo...</td>\n",
       "      <td>[Among the types of Personal Data that this We...</td>\n",
       "      <td>www.outdoorchannel.com.txt</td>\n",
       "    </tr>\n",
       "    <tr>\n",
       "      <th>581</th>\n",
       "      <td>[The Outdoor Channel, Inc. (“Outdoor Channel”)...</td>\n",
       "      <td>[The Outdoor Channel, Inc. (“Outdoor Channel”)...</td>\n",
       "      <td>www.outdoorchannel.com.txt</td>\n",
       "    </tr>\n",
       "  </tbody>\n",
       "</table>\n",
       "<p>582 rows × 3 columns</p>\n",
       "</div>"
      ],
      "text/plain": [
       "                                             GDPR_Text  \\\n",
       "0    [To enable your access to the JSTOR and Portic...   \n",
       "1    [To provide you with additional information ab...   \n",
       "2    [Want to take control of your home repair emer...   \n",
       "3    [If you are a copyright owner or an agent ther...   \n",
       "4    [Privacy Policy from Victoriassecret.com. The ...   \n",
       "..                                                 ...   \n",
       "577  [This Privacy Policy describes how Slack colle...   \n",
       "578  [Privacy Policy from Bettycrocker.com. The liv...   \n",
       "579  [Subway.com would like to place cookies on you...   \n",
       "580  [This website or its third-party tools use coo...   \n",
       "581  [The Outdoor Channel, Inc. (“Outdoor Channel”)...   \n",
       "\n",
       "                                            NGDPR_Text  \\\n",
       "0    [To enable your access to the JSTOR and Portic...   \n",
       "1    [To provide you with additional information ab...   \n",
       "2    [Want to take control of your home repair emer...   \n",
       "3    [If you are a copyright owner or an agent ther...   \n",
       "4    [Privacy Policy from Victoriassecret.com. The ...   \n",
       "..                                                 ...   \n",
       "577  [This Privacy Policy describes how Slack colle...   \n",
       "578  [Privacy Policy from Bettycrocker.com. The liv...   \n",
       "579  [Subway.com would like to place cookies on you...   \n",
       "580  [Among the types of Personal Data that this We...   \n",
       "581  [The Outdoor Channel, Inc. (“Outdoor Channel”)...   \n",
       "\n",
       "                           file  \n",
       "0    www.outdoorchannel.com.txt  \n",
       "1    www.outdoorchannel.com.txt  \n",
       "2    www.outdoorchannel.com.txt  \n",
       "3    www.outdoorchannel.com.txt  \n",
       "4    www.outdoorchannel.com.txt  \n",
       "..                          ...  \n",
       "577  www.outdoorchannel.com.txt  \n",
       "578  www.outdoorchannel.com.txt  \n",
       "579  www.outdoorchannel.com.txt  \n",
       "580  www.outdoorchannel.com.txt  \n",
       "581  www.outdoorchannel.com.txt  \n",
       "\n",
       "[582 rows x 3 columns]"
      ]
     },
     "execution_count": 20,
     "metadata": {},
     "output_type": "execute_result"
    }
   ],
   "source": [
    "df"
   ]
  },
  {
   "cell_type": "code",
   "execution_count": 21,
   "id": "245ac212-dba1-4a2f-923c-ba0398f051db",
   "metadata": {},
   "outputs": [],
   "source": [
    "df.to_csv(\"GDPR_Analysis.csv\",index=False)"
   ]
  },
  {
   "cell_type": "code",
   "execution_count": null,
   "id": "9adc4bf4-521f-4e5f-bb37-725722793fe1",
   "metadata": {},
   "outputs": [],
   "source": []
  }
 ],
 "metadata": {
  "kernelspec": {
   "display_name": "Python 3",
   "language": "python",
   "name": "python3"
  },
  "language_info": {
   "codemirror_mode": {
    "name": "ipython",
    "version": 3
   },
   "file_extension": ".py",
   "mimetype": "text/x-python",
   "name": "python",
   "nbconvert_exporter": "python",
   "pygments_lexer": "ipython3",
   "version": "3.7.11"
  }
 },
 "nbformat": 4,
 "nbformat_minor": 5
}

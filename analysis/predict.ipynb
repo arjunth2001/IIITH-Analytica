{
 "cells": [
  {
   "cell_type": "code",
   "execution_count": 1,
   "id": "27273b3f-2ffc-46fa-93b3-04fe6bf1aa98",
   "metadata": {},
   "outputs": [],
   "source": [
    "from transformers import pipeline, AutoModelForSequenceClassification, AutoTokenizer"
   ]
  },
  {
   "cell_type": "code",
   "execution_count": 2,
   "id": "8deee063-d87a-4e5e-af53-344ac235e034",
   "metadata": {},
   "outputs": [],
   "source": [
    "name = \"arjunth2001/priv_ftc\"\n",
    "model = AutoModelForSequenceClassification.from_pretrained(name)\n",
    "tokenizer = AutoTokenizer.from_pretrained(name)"
   ]
  },
  {
   "cell_type": "code",
   "execution_count": 3,
   "id": "8b2c1f74-5772-4766-9aa0-eb74ec70626a",
   "metadata": {},
   "outputs": [],
   "source": [
    "pipe = pipeline('text-classification', model=model, tokenizer=tokenizer,device=0)"
   ]
  },
  {
   "cell_type": "code",
   "execution_count": 4,
   "id": "f2bf2ba4-095c-476a-8ef0-1df3a775aeff",
   "metadata": {},
   "outputs": [],
   "source": [
    "labels=['First Party Collection/Use',\n",
    "          'Third Party Sharing/Collection',\n",
    "          'Other',\n",
    "          'International and Specific Audiences',\n",
    "          'Data Security',\n",
    "          'User Choice/Control',\n",
    "          'User Access, Edit and Deletion',\n",
    "          'Data Retention',\n",
    "          'Policy Change',\n",
    "          'Do Not Track']\n",
    "counter ={l:0 for l in labels}\n",
    "def get_preds(x):\n",
    "    global counter\n",
    "    try:\n",
    "        x =eval(x)\n",
    "        preds = list(set(i[\"label\"] for i in pipe(x)))\n",
    "        for p in preds:\n",
    "            counter[p]+=1\n",
    "        return preds\n",
    "    except:\n",
    "        return []"
   ]
  },
  {
   "cell_type": "code",
   "execution_count": 5,
   "id": "e001421f-c1b0-4630-980d-ecae6721062e",
   "metadata": {},
   "outputs": [],
   "source": [
    "import pandas as pd"
   ]
  },
  {
   "cell_type": "code",
   "execution_count": 6,
   "id": "74eecc11-57ea-4f56-816b-dd1f6079249d",
   "metadata": {},
   "outputs": [],
   "source": [
    "df = pd.read_csv(\"fortune500_policies.csv\")"
   ]
  },
  {
   "cell_type": "code",
   "execution_count": 7,
   "id": "e12b0c06-e614-4f7a-9aea-ba99c1f70dfa",
   "metadata": {},
   "outputs": [
    {
     "data": {
      "application/vnd.jupyter.widget-view+json": {
       "model_id": "f7ea039fd3564062b22206ad2b9e1b1a",
       "version_major": 2,
       "version_minor": 0
      },
      "text/plain": [
       "  0%|          | 0/485 [00:00<?, ?it/s]"
      ]
     },
     "metadata": {},
     "output_type": "display_data"
    },
    {
     "name": "stderr",
     "output_type": "stream",
     "text": [
      "/home2/arjunth2001/miniconda3/envs/op/lib/python3.7/site-packages/torch/utils/data/dataloader.py:481: UserWarning: This DataLoader will create 8 worker processes in total. Our suggested max number of worker in current system is 4, which is smaller than what this DataLoader is going to create. Please be aware that excessive worker creation might get DataLoader running slow or even freeze, lower the worker number to avoid potential slowness/freeze if necessary.\n",
      "  cpuset_checked))\n",
      "Token indices sequence length is longer than the specified maximum sequence length for this model (986 > 512). Running this sequence through the model will result in indexing errors\n",
      "/home2/arjunth2001/miniconda3/envs/op/lib/python3.7/site-packages/transformers/pipelines/base.py:901: UserWarning: You seem to be using the pipelines sequentially on GPU. In order to maximize efficiency please use a dataset\n",
      "  UserWarning,\n",
      "Token indices sequence length is longer than the specified maximum sequence length for this model (988 > 512). Running this sequence through the model will result in indexing errors\n",
      "Token indices sequence length is longer than the specified maximum sequence length for this model (527 > 512). Running this sequence through the model will result in indexing errors\n",
      "Token indices sequence length is longer than the specified maximum sequence length for this model (1299 > 512). Running this sequence through the model will result in indexing errors\n",
      "Token indices sequence length is longer than the specified maximum sequence length for this model (519 > 512). Running this sequence through the model will result in indexing errors\n",
      "Token indices sequence length is longer than the specified maximum sequence length for this model (589 > 512). Running this sequence through the model will result in indexing errors\n",
      "Token indices sequence length is longer than the specified maximum sequence length for this model (1376 > 512). Running this sequence through the model will result in indexing errors\n",
      "Token indices sequence length is longer than the specified maximum sequence length for this model (569 > 512). Running this sequence through the model will result in indexing errors\n",
      "Token indices sequence length is longer than the specified maximum sequence length for this model (1393 > 512). Running this sequence through the model will result in indexing errors\n",
      "Token indices sequence length is longer than the specified maximum sequence length for this model (612 > 512). Running this sequence through the model will result in indexing errors\n",
      "Token indices sequence length is longer than the specified maximum sequence length for this model (649 > 512). Running this sequence through the model will result in indexing errors\n"
     ]
    }
   ],
   "source": [
    "from tqdm.auto import tqdm\n",
    "tqdm.pandas()\n",
    "df[\"preds\"]=df[\"body\"].progress_apply(lambda x: get_preds(x))"
   ]
  },
  {
   "cell_type": "code",
   "execution_count": 8,
   "id": "13a9d3a9-1c36-4d85-8fbd-a4153554427f",
   "metadata": {},
   "outputs": [],
   "source": [
    "import json\n",
    "with open(\"fortune500.json\",\"w\") as f:\n",
    "    json.dump(counter,f,indent=4)"
   ]
  },
  {
   "cell_type": "code",
   "execution_count": 9,
   "id": "09199674-44e7-4153-8852-7c16c0f274a3",
   "metadata": {},
   "outputs": [],
   "source": [
    "df.to_csv(\"fortune500_policies.csv\",index=False)"
   ]
  },
  {
   "cell_type": "code",
   "execution_count": null,
   "id": "436517a1-5c3f-40b9-ac44-d3c4654cb8d9",
   "metadata": {},
   "outputs": [],
   "source": []
  }
 ],
 "metadata": {
  "kernelspec": {
   "display_name": "Python 3 (ipykernel)",
   "language": "python",
   "name": "python3"
  },
  "language_info": {
   "codemirror_mode": {
    "name": "ipython",
    "version": 3
   },
   "file_extension": ".py",
   "mimetype": "text/x-python",
   "name": "python",
   "nbconvert_exporter": "python",
   "pygments_lexer": "ipython3",
   "version": "3.7.0"
  }
 },
 "nbformat": 4,
 "nbformat_minor": 5
}

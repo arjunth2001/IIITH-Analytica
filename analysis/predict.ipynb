{
 "cells": [
  {
   "cell_type": "code",
   "execution_count": 1,
   "id": "27273b3f-2ffc-46fa-93b3-04fe6bf1aa98",
   "metadata": {},
   "outputs": [],
   "source": [
    "from transformers import pipeline, AutoModelForSequenceClassification, AutoTokenizer"
   ]
  },
  {
   "cell_type": "code",
   "execution_count": 2,
   "id": "8deee063-d87a-4e5e-af53-344ac235e034",
   "metadata": {},
   "outputs": [],
   "source": [
    "name = \"arjunth2001/priv_ftc\"\n",
    "model = AutoModelForSequenceClassification.from_pretrained(name)\n",
    "tokenizer = AutoTokenizer.from_pretrained(name)"
   ]
  },
  {
   "cell_type": "code",
   "execution_count": 3,
   "id": "8b2c1f74-5772-4766-9aa0-eb74ec70626a",
   "metadata": {},
   "outputs": [],
   "source": [
    "pipe = pipeline('text-classification', model=model, tokenizer=tokenizer)"
   ]
  },
  {
   "cell_type": "code",
   "execution_count": 4,
   "id": "f2bf2ba4-095c-476a-8ef0-1df3a775aeff",
   "metadata": {},
   "outputs": [],
   "source": [
    "labels=['First Party Collection/Use',\n",
    "          'Third Party Sharing/Collection',\n",
    "          'Other',\n",
    "          'International and Specific Audiences',\n",
    "          'Data Security',\n",
    "          'User Choice/Control',\n",
    "          'User Access, Edit and Deletion',\n",
    "          'Data Retention',\n",
    "          'Policy Change',\n",
    "          'Do Not Track']\n",
    "counter ={l:0 for l in labels}\n",
    "def get_preds(x):\n",
    "    global counter\n",
    "    try:\n",
    "        x =eval(x)\n",
    "        preds = list(set(i[\"label\"] for i in pipe(x)))\n",
    "        for p in preds:\n",
    "            counter[p]+=1\n",
    "        return preds\n",
    "    except:\n",
    "        return []"
   ]
  },
  {
   "cell_type": "code",
   "execution_count": 5,
   "id": "e001421f-c1b0-4630-980d-ecae6721062e",
   "metadata": {},
   "outputs": [],
   "source": [
    "import pandas as pd"
   ]
  },
  {
   "cell_type": "code",
   "execution_count": 6,
   "id": "74eecc11-57ea-4f56-816b-dd1f6079249d",
   "metadata": {},
   "outputs": [],
   "source": [
    "df = pd.read_csv(\"indian_policies.csv\")"
   ]
  },
  {
   "cell_type": "code",
   "execution_count": null,
   "id": "e12b0c06-e614-4f7a-9aea-ba99c1f70dfa",
   "metadata": {},
   "outputs": [
    {
     "data": {
      "application/vnd.jupyter.widget-view+json": {
       "model_id": "c7b9851be46c4da39f71cff0844fe3e2",
       "version_major": 2,
       "version_minor": 0
      },
      "text/plain": [
       "  0%|          | 0/95 [00:00<?, ?it/s]"
      ]
     },
     "metadata": {},
     "output_type": "display_data"
    }
   ],
   "source": [
    "from tqdm.auto import tqdm\n",
    "tqdm.pandas()\n",
    "df[\"preds\"]=df[\"body\"].progress_apply(lambda x: get_preds(x))"
   ]
  },
  {
   "cell_type": "code",
   "execution_count": null,
   "id": "13a9d3a9-1c36-4d85-8fbd-a4153554427f",
   "metadata": {},
   "outputs": [],
   "source": []
  }
 ],
 "metadata": {
  "kernelspec": {
   "display_name": "Python 3",
   "language": "python",
   "name": "python3"
  },
  "language_info": {
   "codemirror_mode": {
    "name": "ipython",
    "version": 3
   },
   "file_extension": ".py",
   "mimetype": "text/x-python",
   "name": "python",
   "nbconvert_exporter": "python",
   "pygments_lexer": "ipython3",
   "version": "3.7.11"
  }
 },
 "nbformat": 4,
 "nbformat_minor": 5
}

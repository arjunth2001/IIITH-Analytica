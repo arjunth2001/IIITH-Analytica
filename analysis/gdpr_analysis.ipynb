{
 "cells": [
  {
   "cell_type": "code",
   "execution_count": 33,
   "id": "46223edf-29ca-4590-a838-0b799e2f4429",
   "metadata": {},
   "outputs": [],
   "source": [
    "import pandas as pd\n",
    "import chartify\n",
    "import json\n",
    "import matplotlib.pyplot as plt\n",
    "from matplotlib.pyplot import figure\n",
    "import seaborn as sns"
   ]
  },
  {
   "cell_type": "code",
   "execution_count": 15,
   "id": "50abe194-8439-4cc3-bac8-af1a2d64b3c8",
   "metadata": {},
   "outputs": [],
   "source": [
    "total = 582"
   ]
  },
  {
   "cell_type": "code",
   "execution_count": 16,
   "id": "c3a6cb8f-1d4e-40ef-a839-ab4f44da768e",
   "metadata": {},
   "outputs": [],
   "source": [
    "with open(\"GDPR.json\") as f:\n",
    "    data = json.load(f)"
   ]
  },
  {
   "cell_type": "code",
   "execution_count": 17,
   "id": "f6838dd8-ea2c-423d-9ec8-e8b23ba846c1",
   "metadata": {},
   "outputs": [],
   "source": [
    "perc = []\n",
    "gui = []\n",
    "ty =[]\n",
    "for t in data.keys():\n",
    "    for g in data[t].keys():\n",
    "        v = data[t][g]/total\n",
    "        perc.append(v)\n",
    "        ty.append(t)\n",
    "        gui.append(g)"
   ]
  },
  {
   "cell_type": "code",
   "execution_count": 18,
   "id": "5a9f522b-9e67-4dc9-9845-5f2e3ecd151c",
   "metadata": {},
   "outputs": [],
   "source": [
    "data = pd.DataFrame({\"Percentage\":perc,\"GDPR or Not?\":ty,\"FTC Guideline\":gui})"
   ]
  },
  {
   "cell_type": "code",
   "execution_count": 23,
   "id": "5865ee98-7ff0-416a-baa8-8e28fc30ad9c",
   "metadata": {},
   "outputs": [
    {
     "data": {
      "text/html": [
       "<div>\n",
       "<style scoped>\n",
       "    .dataframe tbody tr th:only-of-type {\n",
       "        vertical-align: middle;\n",
       "    }\n",
       "\n",
       "    .dataframe tbody tr th {\n",
       "        vertical-align: top;\n",
       "    }\n",
       "\n",
       "    .dataframe thead th {\n",
       "        text-align: right;\n",
       "    }\n",
       "</style>\n",
       "<table border=\"1\" class=\"dataframe\">\n",
       "  <thead>\n",
       "    <tr style=\"text-align: right;\">\n",
       "      <th></th>\n",
       "      <th>Percentage</th>\n",
       "      <th>GDPR or Not?</th>\n",
       "      <th>FTC Guideline</th>\n",
       "    </tr>\n",
       "  </thead>\n",
       "  <tbody>\n",
       "    <tr>\n",
       "      <th>0</th>\n",
       "      <td>0.879725</td>\n",
       "      <td>GDPR</td>\n",
       "      <td>First Party Collection/Use</td>\n",
       "    </tr>\n",
       "    <tr>\n",
       "      <th>1</th>\n",
       "      <td>0.819588</td>\n",
       "      <td>GDPR</td>\n",
       "      <td>Third Party Sharing/Collection</td>\n",
       "    </tr>\n",
       "    <tr>\n",
       "      <th>2</th>\n",
       "      <td>0.955326</td>\n",
       "      <td>GDPR</td>\n",
       "      <td>Other</td>\n",
       "    </tr>\n",
       "    <tr>\n",
       "      <th>3</th>\n",
       "      <td>0.716495</td>\n",
       "      <td>GDPR</td>\n",
       "      <td>International and Specific Audiences</td>\n",
       "    </tr>\n",
       "    <tr>\n",
       "      <th>4</th>\n",
       "      <td>0.733677</td>\n",
       "      <td>GDPR</td>\n",
       "      <td>Data Security</td>\n",
       "    </tr>\n",
       "    <tr>\n",
       "      <th>5</th>\n",
       "      <td>0.805842</td>\n",
       "      <td>GDPR</td>\n",
       "      <td>User Choice/Control</td>\n",
       "    </tr>\n",
       "    <tr>\n",
       "      <th>6</th>\n",
       "      <td>0.587629</td>\n",
       "      <td>GDPR</td>\n",
       "      <td>User Access, Edit and Deletion</td>\n",
       "    </tr>\n",
       "    <tr>\n",
       "      <th>7</th>\n",
       "      <td>0.345361</td>\n",
       "      <td>GDPR</td>\n",
       "      <td>Data Retention</td>\n",
       "    </tr>\n",
       "    <tr>\n",
       "      <th>8</th>\n",
       "      <td>0.680412</td>\n",
       "      <td>GDPR</td>\n",
       "      <td>Policy Change</td>\n",
       "    </tr>\n",
       "    <tr>\n",
       "      <th>9</th>\n",
       "      <td>0.000000</td>\n",
       "      <td>GDPR</td>\n",
       "      <td>Do Not Track</td>\n",
       "    </tr>\n",
       "    <tr>\n",
       "      <th>10</th>\n",
       "      <td>0.883162</td>\n",
       "      <td>NGDPR</td>\n",
       "      <td>First Party Collection/Use</td>\n",
       "    </tr>\n",
       "    <tr>\n",
       "      <th>11</th>\n",
       "      <td>0.824742</td>\n",
       "      <td>NGDPR</td>\n",
       "      <td>Third Party Sharing/Collection</td>\n",
       "    </tr>\n",
       "    <tr>\n",
       "      <th>12</th>\n",
       "      <td>0.958763</td>\n",
       "      <td>NGDPR</td>\n",
       "      <td>Other</td>\n",
       "    </tr>\n",
       "    <tr>\n",
       "      <th>13</th>\n",
       "      <td>0.723368</td>\n",
       "      <td>NGDPR</td>\n",
       "      <td>International and Specific Audiences</td>\n",
       "    </tr>\n",
       "    <tr>\n",
       "      <th>14</th>\n",
       "      <td>0.742268</td>\n",
       "      <td>NGDPR</td>\n",
       "      <td>Data Security</td>\n",
       "    </tr>\n",
       "    <tr>\n",
       "      <th>15</th>\n",
       "      <td>0.810997</td>\n",
       "      <td>NGDPR</td>\n",
       "      <td>User Choice/Control</td>\n",
       "    </tr>\n",
       "    <tr>\n",
       "      <th>16</th>\n",
       "      <td>0.592784</td>\n",
       "      <td>NGDPR</td>\n",
       "      <td>User Access, Edit and Deletion</td>\n",
       "    </tr>\n",
       "    <tr>\n",
       "      <th>17</th>\n",
       "      <td>0.343643</td>\n",
       "      <td>NGDPR</td>\n",
       "      <td>Data Retention</td>\n",
       "    </tr>\n",
       "    <tr>\n",
       "      <th>18</th>\n",
       "      <td>0.690722</td>\n",
       "      <td>NGDPR</td>\n",
       "      <td>Policy Change</td>\n",
       "    </tr>\n",
       "    <tr>\n",
       "      <th>19</th>\n",
       "      <td>0.000000</td>\n",
       "      <td>NGDPR</td>\n",
       "      <td>Do Not Track</td>\n",
       "    </tr>\n",
       "  </tbody>\n",
       "</table>\n",
       "</div>"
      ],
      "text/plain": [
       "    Percentage GDPR or Not?                         FTC Guideline\n",
       "0     0.879725         GDPR            First Party Collection/Use\n",
       "1     0.819588         GDPR        Third Party Sharing/Collection\n",
       "2     0.955326         GDPR                                 Other\n",
       "3     0.716495         GDPR  International and Specific Audiences\n",
       "4     0.733677         GDPR                         Data Security\n",
       "5     0.805842         GDPR                   User Choice/Control\n",
       "6     0.587629         GDPR        User Access, Edit and Deletion\n",
       "7     0.345361         GDPR                        Data Retention\n",
       "8     0.680412         GDPR                         Policy Change\n",
       "9     0.000000         GDPR                          Do Not Track\n",
       "10    0.883162        NGDPR            First Party Collection/Use\n",
       "11    0.824742        NGDPR        Third Party Sharing/Collection\n",
       "12    0.958763        NGDPR                                 Other\n",
       "13    0.723368        NGDPR  International and Specific Audiences\n",
       "14    0.742268        NGDPR                         Data Security\n",
       "15    0.810997        NGDPR                   User Choice/Control\n",
       "16    0.592784        NGDPR        User Access, Edit and Deletion\n",
       "17    0.343643        NGDPR                        Data Retention\n",
       "18    0.690722        NGDPR                         Policy Change\n",
       "19    0.000000        NGDPR                          Do Not Track"
      ]
     },
     "execution_count": 23,
     "metadata": {},
     "output_type": "execute_result"
    }
   ],
   "source": [
    "data"
   ]
  },
  {
   "cell_type": "code",
   "execution_count": 20,
   "id": "6863546d-b420-4187-a1f5-a7aaecd20daa",
   "metadata": {},
   "outputs": [],
   "source": [
    "labels=['First Party Collection/Use',\n",
    "          'Third Party Sharing/Collection',\n",
    "          'Other',\n",
    "          'International and Specific Audiences',\n",
    "          'Data Security',\n",
    "          'User Choice/Control',\n",
    "          'User Access, Edit and Deletion',\n",
    "          'Data Retention',\n",
    "          'Policy Change',\n",
    "          'Do Not Track']"
   ]
  },
  {
   "cell_type": "code",
   "execution_count": 24,
   "id": "ff0adfa0-5514-462d-8abb-0e034982269e",
   "metadata": {},
   "outputs": [
    {
     "data": {
      "text/html": [
       "\n",
       "\n",
       "\n",
       "\n",
       "\n",
       "\n",
       "  <div class=\"bk-root\" id=\"d3084314-130d-45b8-8284-e565cb3d4786\" data-root-id=\"1177\"></div>\n"
      ]
     },
     "metadata": {},
     "output_type": "display_data"
    },
    {
     "data": {
      "application/javascript": [
       "(function(root) {\n",
       "  function embed_document(root) {\n",
       "    \n",
       "  const docs_json = {\"a76321ae-c792-488d-9826-cec3da1777d6\":{\"defs\":[],\"roots\":{\"references\":[{\"attributes\":{\"above\":[{\"id\":\"1200\"}],\"background_fill_color\":\"white\",\"below\":[{\"id\":\"1186\"},{\"id\":\"1199\"},{\"id\":\"1223\"}],\"border_fill_color\":\"white\",\"center\":[{\"id\":\"1188\"},{\"id\":\"1192\"},{\"id\":\"1223\"}],\"height\":540,\"left\":[{\"id\":\"1189\"}],\"min_border_bottom\":60,\"min_border_left\":60,\"min_border_right\":60,\"min_border_top\":40,\"outline_line_color\":\"white\",\"renderers\":[{\"id\":\"1212\"}],\"title\":{\"id\":\"1196\"},\"toolbar\":{\"id\":\"1194\"},\"width\":960,\"x_range\":{\"id\":\"1178\"},\"x_scale\":{\"id\":\"1182\"},\"y_range\":{\"id\":\"1180\"},\"y_scale\":{\"id\":\"1184\"}},\"id\":\"1177\",\"subtype\":\"Figure\",\"type\":\"Plot\"},{\"attributes\":{\"start\":0},\"id\":\"1180\",\"type\":\"DataRange1d\"},{\"attributes\":{},\"id\":\"1184\",\"type\":\"LinearScale\"},{\"attributes\":{\"coordinates\":null,\"data_source\":{\"id\":\"1204\"},\"glyph\":{\"id\":\"1209\"},\"group\":null,\"hover_glyph\":null,\"muted_glyph\":{\"id\":\"1211\"},\"nonselection_glyph\":{\"id\":\"1210\"},\"view\":{\"id\":\"1213\"}},\"id\":\"1212\",\"type\":\"GlyphRenderer\"},{\"attributes\":{\"format\":\"0,0.[00]\"},\"id\":\"1206\",\"type\":\"NumeralTickFormatter\"},{\"attributes\":{\"coordinates\":null,\"group\":null,\"text\":\"Y axis is Percentage of Policies having the mentioned Guideline\",\"text_color\":\"#666666\",\"text_font_size\":\"12pt\"},\"id\":\"1200\",\"type\":\"Title\"},{\"attributes\":{\"axis_label\":\"\",\"axis_label_text_color\":\"#666666\",\"axis_label_text_font_size\":\"11pt\",\"axis_label_text_font_style\":\"bold\",\"axis_line_color\":\"#C0C0C0\",\"coordinates\":null,\"formatter\":{\"id\":\"1219\"},\"group\":null,\"group_label_orientation\":1.5707963267948966,\"group_text_font_size\":\"11pt\",\"major_label_orientation\":1.5707963267948966,\"major_label_policy\":{\"id\":\"1220\"},\"major_label_text_color\":\"#898989\",\"major_label_text_font_size\":\"10pt\",\"major_tick_in\":0,\"major_tick_line_color\":\"#C0C0C0\",\"major_tick_out\":4,\"minor_tick_line_color\":\"#C0C0C0\",\"minor_tick_out\":1,\"separator_line_alpha\":0,\"subgroup_label_orientation\":1.5707963267948966,\"subgroup_text_font_size\":\"11pt\",\"ticker\":{\"id\":\"1187\"}},\"id\":\"1186\",\"type\":\"CategoricalAxis\"},{\"attributes\":{\"fill_alpha\":{\"value\":0.2},\"fill_color\":{\"field\":\"color_column\",\"transform\":{\"id\":\"1205\"}},\"hatch_alpha\":{\"value\":0.2},\"line_alpha\":{\"value\":0.2},\"line_color\":{\"value\":\"white\"},\"top\":{\"field\":\"Percentage\"},\"width\":{\"value\":0.9},\"x\":{\"field\":\"factors\"}},\"id\":\"1211\",\"type\":\"VBar\"},{\"attributes\":{},\"id\":\"1190\",\"type\":\"BasicTicker\"},{\"attributes\":{\"factor_padding\":0.25,\"factors\":[[\"GDPR\",\"First Party Collection/Use\"],[\"GDPR\",\"Third Party Sharing/Collection\"],[\"GDPR\",\"Other\"],[\"GDPR\",\"International and Specific Audiences\"],[\"GDPR\",\"Data Security\"],[\"GDPR\",\"User Choice/Control\"],[\"GDPR\",\"User Access, Edit and Deletion\"],[\"GDPR\",\"Data Retention\"],[\"GDPR\",\"Policy Change\"],[\"GDPR\",\"Do Not Track\"],[\"NGDPR\",\"First Party Collection/Use\"],[\"NGDPR\",\"Third Party Sharing/Collection\"],[\"NGDPR\",\"Other\"],[\"NGDPR\",\"International and Specific Audiences\"],[\"NGDPR\",\"Data Security\"],[\"NGDPR\",\"User Choice/Control\"],[\"NGDPR\",\"User Access, Edit and Deletion\"],[\"NGDPR\",\"Data Retention\"],[\"NGDPR\",\"Policy Change\"],[\"NGDPR\",\"Do Not Track\"]]},\"id\":\"1178\",\"type\":\"FactorRange\"},{\"attributes\":{},\"id\":\"1187\",\"type\":\"CategoricalTicker\"},{\"attributes\":{\"index\":5,\"label\":{\"value\":\"User Choice/Control\"},\"renderers\":[{\"id\":\"1212\"}]},\"id\":\"1233\",\"type\":\"LegendItem\"},{\"attributes\":{\"axis\":{\"id\":\"1186\"},\"coordinates\":null,\"grid_line_color\":null,\"group\":null,\"ticker\":null},\"id\":\"1188\",\"type\":\"Grid\"},{\"attributes\":{},\"id\":\"1219\",\"type\":\"CategoricalTickFormatter\"},{\"attributes\":{\"axis\":{\"id\":\"1189\"},\"coordinates\":null,\"dimension\":1,\"grid_line_color\":null,\"group\":null,\"ticker\":null},\"id\":\"1192\",\"type\":\"Grid\"},{\"attributes\":{\"index\":0,\"label\":{\"value\":\"First Party Collection/Use\"},\"renderers\":[{\"id\":\"1212\"}]},\"id\":\"1227\",\"type\":\"LegendItem\"},{\"attributes\":{\"index\":9,\"label\":{\"value\":\"Do Not Track\"},\"renderers\":[{\"id\":\"1212\"}]},\"id\":\"1226\",\"type\":\"LegendItem\"},{\"attributes\":{\"axis_label\":\"\",\"axis_label_text_color\":\"#666666\",\"axis_label_text_font_size\":\"11pt\",\"axis_label_text_font_style\":\"bold\",\"axis_line_color\":\"#C0C0C0\",\"coordinates\":null,\"formatter\":{\"id\":\"1206\"},\"group\":null,\"major_label_policy\":{\"id\":\"1217\"},\"major_label_text_color\":\"#898989\",\"major_label_text_font_size\":\"10pt\",\"major_tick_in\":0,\"major_tick_line_color\":\"#C0C0C0\",\"major_tick_out\":4,\"minor_tick_line_color\":\"#C0C0C0\",\"minor_tick_out\":1,\"ticker\":{\"id\":\"1190\"}},\"id\":\"1189\",\"type\":\"LinearAxis\"},{\"attributes\":{},\"id\":\"1221\",\"type\":\"UnionRenderers\"},{\"attributes\":{\"coordinates\":null,\"group\":null,\"items\":[{\"id\":\"1224\"},{\"id\":\"1225\"},{\"id\":\"1226\"},{\"id\":\"1227\"},{\"id\":\"1228\"},{\"id\":\"1229\"},{\"id\":\"1230\"},{\"id\":\"1231\"},{\"id\":\"1232\"},{\"id\":\"1233\"}],\"location\":\"bottom_center\",\"orientation\":\"horizontal\"},\"id\":\"1223\",\"type\":\"Legend\"},{\"attributes\":{\"fill_alpha\":{\"value\":0.1},\"fill_color\":{\"field\":\"color_column\",\"transform\":{\"id\":\"1205\"}},\"hatch_alpha\":{\"value\":0.1},\"line_alpha\":{\"value\":0.1},\"line_color\":{\"value\":\"white\"},\"top\":{\"field\":\"Percentage\"},\"width\":{\"value\":0.9},\"x\":{\"field\":\"factors\"}},\"id\":\"1210\",\"type\":\"VBar\"},{\"attributes\":{},\"id\":\"1222\",\"type\":\"Selection\"},{\"attributes\":{\"end\":1,\"factors\":[\"Data Retention\",\"Data Security\",\"Do Not Track\",\"First Party Collection/Use\",\"International and Specific Audiences\",\"Other\",\"Policy Change\",\"Third Party Sharing/Collection\",\"User Access, Edit and Deletion\",\"User Choice/Control\"],\"palette\":[\"#1f77b4\",\"#ff7f0e\",\"#2ca02c\",\"#d62728\",\"#9467bd\",\"#8c564b\",\"#e377c2\",\"#7f7f7f\",\"#bcbd22\",\"#17becf\"]},\"id\":\"1205\",\"type\":\"CategoricalColorMapper\"},{\"attributes\":{\"fill_color\":{\"field\":\"color_column\",\"transform\":{\"id\":\"1205\"}},\"line_color\":{\"value\":\"white\"},\"top\":{\"field\":\"Percentage\"},\"width\":{\"value\":0.9},\"x\":{\"field\":\"factors\"}},\"id\":\"1209\",\"type\":\"VBar\"},{\"attributes\":{\"index\":6,\"label\":{\"value\":\"User Access, Edit and Deletion\"},\"renderers\":[{\"id\":\"1212\"}]},\"id\":\"1232\",\"type\":\"LegendItem\"},{\"attributes\":{\"source\":{\"id\":\"1204\"}},\"id\":\"1213\",\"type\":\"CDSView\"},{\"attributes\":{},\"id\":\"1193\",\"type\":\"SaveTool\"},{\"attributes\":{\"index\":2,\"label\":{\"value\":\"Other\"},\"renderers\":[{\"id\":\"1212\"}]},\"id\":\"1229\",\"type\":\"LegendItem\"},{\"attributes\":{\"index\":7,\"label\":{\"value\":\"Data Retention\"},\"renderers\":[{\"id\":\"1212\"}]},\"id\":\"1224\",\"type\":\"LegendItem\"},{\"attributes\":{\"active_drag\":null,\"logo\":null,\"tools\":[{\"id\":\"1193\"}]},\"id\":\"1194\",\"type\":\"Toolbar\"},{\"attributes\":{\"index\":3,\"label\":{\"value\":\"International and Specific Audiences\"},\"renderers\":[{\"id\":\"1212\"}]},\"id\":\"1228\",\"type\":\"LegendItem\"},{\"attributes\":{\"index\":4,\"label\":{\"value\":\"Data Security\"},\"renderers\":[{\"id\":\"1212\"}]},\"id\":\"1225\",\"type\":\"LegendItem\"},{\"attributes\":{\"index\":8,\"label\":{\"value\":\"Policy Change\"},\"renderers\":[{\"id\":\"1212\"}]},\"id\":\"1230\",\"type\":\"LegendItem\"},{\"attributes\":{\"coordinates\":null,\"group\":null,\"text\":\"FTC Guideline Distribution in Percentages\",\"text_color\":\"#333333\",\"text_font_size\":\"18pt\"},\"id\":\"1196\",\"type\":\"Title\"},{\"attributes\":{\"index\":1,\"label\":{\"value\":\"Third Party Sharing/Collection\"},\"renderers\":[{\"id\":\"1212\"}]},\"id\":\"1231\",\"type\":\"LegendItem\"},{\"attributes\":{},\"id\":\"1217\",\"type\":\"AllLabels\"},{\"attributes\":{},\"id\":\"1182\",\"type\":\"CategoricalScale\"},{\"attributes\":{\"data\":{\"Percentage\":{\"__ndarray__\":\"HKAuObUm7D8q8MXVDzrqP9+hGMwIku4/Z3kSmYbt5j+HYjAjSHrnP6o14QB1yek/8yQyDdvN4j+2m+VJZBrWP9YPOirwxeU/AAAAAAAAAAC8zmfu20LsPxq2m+VJZOo/f9BRgS+u7j+n1oQD1CXnPxhXP+iowOc/mvu2EK/z6T/j6gcdFfjiPxZtrJQ9/tU/tpvlSWQa5j8AAAAAAAAAAA==\",\"dtype\":\"float64\",\"order\":\"little\",\"shape\":[20]},\"color_column\":[\"First Party Collection/Use\",\"Third Party Sharing/Collection\",\"Other\",\"International and Specific Audiences\",\"Data Security\",\"User Choice/Control\",\"User Access, Edit and Deletion\",\"Data Retention\",\"Policy Change\",\"Do Not Track\",\"First Party Collection/Use\",\"Third Party Sharing/Collection\",\"Other\",\"International and Specific Audiences\",\"Data Security\",\"User Choice/Control\",\"User Access, Edit and Deletion\",\"Data Retention\",\"Policy Change\",\"Do Not Track\"],\"factors\":[[\"GDPR\",\"First Party Collection/Use\"],[\"GDPR\",\"Third Party Sharing/Collection\"],[\"GDPR\",\"Other\"],[\"GDPR\",\"International and Specific Audiences\"],[\"GDPR\",\"Data Security\"],[\"GDPR\",\"User Choice/Control\"],[\"GDPR\",\"User Access, Edit and Deletion\"],[\"GDPR\",\"Data Retention\"],[\"GDPR\",\"Policy Change\"],[\"GDPR\",\"Do Not Track\"],[\"NGDPR\",\"First Party Collection/Use\"],[\"NGDPR\",\"Third Party Sharing/Collection\"],[\"NGDPR\",\"Other\"],[\"NGDPR\",\"International and Specific Audiences\"],[\"NGDPR\",\"Data Security\"],[\"NGDPR\",\"User Choice/Control\"],[\"NGDPR\",\"User Access, Edit and Deletion\"],[\"NGDPR\",\"Data Retention\"],[\"NGDPR\",\"Policy Change\"],[\"NGDPR\",\"Do Not Track\"]],\"index\":[0,1,2,3,4,5,6,7,8,9,10,11,12,13,14,15,16,17,18,19]},\"name\":\"Series:\",\"selected\":{\"id\":\"1222\"},\"selection_policy\":{\"id\":\"1221\"}},\"id\":\"1204\",\"type\":\"ColumnDataSource\"},{\"attributes\":{},\"id\":\"1220\",\"type\":\"AllLabels\"},{\"attributes\":{\"coordinates\":null,\"group\":null,\"level\":\"overlay\",\"name\":\"subtitle\",\"text_align\":\"right\",\"text_color\":\"#898989\",\"text_font_size\":\"10px\",\"x\":864.0,\"x_units\":\"screen\",\"y\":0,\"y_units\":\"screen\"},\"id\":\"1199\",\"type\":\"Label\"}],\"root_ids\":[\"1177\"]},\"title\":\"Bokeh Application\",\"version\":\"2.4.1\"}};\n",
       "  const render_items = [{\"docid\":\"a76321ae-c792-488d-9826-cec3da1777d6\",\"root_ids\":[\"1177\"],\"roots\":{\"1177\":\"d3084314-130d-45b8-8284-e565cb3d4786\"}}];\n",
       "  root.Bokeh.embed.embed_items_notebook(docs_json, render_items);\n",
       "\n",
       "  }\n",
       "  if (root.Bokeh !== undefined) {\n",
       "    embed_document(root);\n",
       "  } else {\n",
       "    let attempts = 0;\n",
       "    const timer = setInterval(function(root) {\n",
       "      if (root.Bokeh !== undefined) {\n",
       "        clearInterval(timer);\n",
       "        embed_document(root);\n",
       "      } else {\n",
       "        attempts++;\n",
       "        if (attempts > 100) {\n",
       "          clearInterval(timer);\n",
       "          console.log(\"Bokeh: ERROR: Unable to run BokehJS code because BokehJS library is missing\");\n",
       "        }\n",
       "      }\n",
       "    }, 10, root)\n",
       "  }\n",
       "})(window);"
      ],
      "application/vnd.bokehjs_exec.v0+json": ""
     },
     "metadata": {
      "application/vnd.bokehjs_exec.v0+json": {
       "id": "1177"
      }
     },
     "output_type": "display_data"
    }
   ],
   "source": [
    "ch = chartify.Chart(blank_labels=True, x_axis_type='categorical')\n",
    "ch.set_title(\"FTC Guideline Distribution in Percentages\")\n",
    "ch.set_subtitle(\n",
    "    \"Y axis is Percentage of Policies having the mentioned Guideline\")\n",
    "from itertools import product\n",
    "outside_groups = [\"GDPR\",\"NGDPR\"]\n",
    "inner_groups = labels\n",
    "sort_order = list(product(outside_groups, inner_groups))\n",
    "ch.plot.bar(\n",
    "    data,\n",
    "    categorical_columns=[ 'GDPR or Not?','FTC Guideline'],\n",
    "    numeric_column='Percentage',\n",
    "    color_column='FTC Guideline',\n",
    "    categorical_order_by=sort_order)\n",
    "ch.axes.set_xaxis_tick_orientation('vertical')\n",
    "ch.set_legend_location('outside_bottom')\n",
    "ch.show()"
   ]
  },
  {
   "cell_type": "code",
   "execution_count": 28,
   "id": "76ace7d2-4503-495e-b8dc-a574582baf2b",
   "metadata": {},
   "outputs": [],
   "source": [
    "with open(\"sims.json\") as f:\n",
    "    data = json.load(f)"
   ]
  },
  {
   "cell_type": "code",
   "execution_count": 35,
   "id": "ef35450c-ea33-4925-8787-e2ef25dae2aa",
   "metadata": {},
   "outputs": [
    {
     "name": "stderr",
     "output_type": "stream",
     "text": [
      "/Users/arjunth2001/opt/miniconda3/envs/op_project/lib/python3.7/site-packages/seaborn/distributions.py:2619: FutureWarning: `distplot` is a deprecated function and will be removed in a future version. Please adapt your code to use either `displot` (a figure-level function with similar flexibility) or `histplot` (an axes-level function for histograms).\n",
      "  warnings.warn(msg, FutureWarning)\n"
     ]
    },
    {
     "data": {
      "image/png": "[encoded data removed]",
      "text/plain": [
       "<Figure size 1080x576 with 1 Axes>"
      ]
     },
     "metadata": {},
     "output_type": "display_data"
    }
   ],
   "source": [
    "fig = plt.figure(figsize=(15,8))\n",
    "fig.patch.set_facecolor(\"white\")\n",
    "ax = sns.distplot(data, label='Cosine Similarity of GDPR vs Non GDPR Area versions of same Privacy Policy')\n",
    "plt.title(\"Cosine Similarity Distribution\")\n",
    "plt.xlabel(\"Cosine Similarity\")\n",
    "plt.ylabel(\"Density\")\n",
    "legend = plt.legend()\n",
    "plt.savefig(\"images/sims.png\",dpi=300)\n",
    "plt.show()"
   ]
  },
  {
   "cell_type": "code",
   "execution_count": 38,
   "id": "e431fe92-5ca5-4f49-844c-d514d0d900d2",
   "metadata": {},
   "outputs": [],
   "source": [
    "count=[0,0,0]\n",
    "for d in data:\n",
    "    if d < 0.75:\n",
    "        count[0]+=1\n",
    "    elif d>=0.75 and d<1:\n",
    "        count[1]+=1\n",
    "    else:\n",
    "        count[2]+=1"
   ]
  },
  {
   "cell_type": "code",
   "execution_count": 39,
   "id": "a41bca54-8a24-4a5b-8c85-f04bb6ed0cab",
   "metadata": {},
   "outputs": [
    {
     "data": {
      "text/plain": [
       "[10, 198, 374]"
      ]
     },
     "execution_count": 39,
     "metadata": {},
     "output_type": "execute_result"
    }
   ],
   "source": [
    "count"
   ]
  },
  {
   "cell_type": "code",
   "execution_count": 44,
   "id": "71f960f4-42cb-4a18-bcd6-eca9e32400e0",
   "metadata": {},
   "outputs": [
    {
     "data": {
      "image/png": "[encoded data removed]",
      "text/plain": [
       "<Figure size 1080x576 with 1 Axes>"
      ]
     },
     "metadata": {},
     "output_type": "display_data"
    }
   ],
   "source": [
    "import numpy as np\n",
    "import matplotlib.pyplot as plt\n",
    "fig = plt.figure(figsize=(15,8))\n",
    "fig.patch.set_facecolor(\"white\")\n",
    "plt.bar([\"< 0.75\",\">=0.75 and < 1\", \"Exact Match\"], count, color ='orange',\n",
    "        width = 0.4)\n",
    " \n",
    "plt.xlabel(\"Cosine Similarity\")\n",
    "plt.ylabel(\"Count of Privacy Policies\")\n",
    "plt.title(\"Cosine Similarity of GDPR vs Non GDPR Area versions of same Privacy Policy\")\n",
    "plt.savefig(\"images/simbar.png\",dpi=300)\n",
    "plt.show()"
   ]
  },
  {
   "cell_type": "code",
   "execution_count": null,
   "id": "9b49cb0f-1f48-4960-8f81-15e97e8a9e71",
   "metadata": {},
   "outputs": [],
   "source": []
  }
 ],
 "metadata": {
  "kernelspec": {
   "display_name": "Python 3",
   "language": "python",
   "name": "python3"
  },
  "language_info": {
   "codemirror_mode": {
    "name": "ipython",
    "version": 3
   },
   "file_extension": ".py",
   "mimetype": "text/x-python",
   "name": "python",
   "nbconvert_exporter": "python",
   "pygments_lexer": "ipython3",
   "version": "3.7.11"
  }
 },
 "nbformat": 4,
 "nbformat_minor": 5
}

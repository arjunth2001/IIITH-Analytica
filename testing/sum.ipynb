{
 "cells": [
  {
   "cell_type": "code",
   "execution_count": 1,
   "id": "e9b25980-39b6-4a8a-8830-5caed64ea337",
   "metadata": {},
   "outputs": [],
   "source": [
    "from transformers import AutoTokenizer, AutoModelForSeq2SeqLM\n",
    "import re\n",
    "sum_model = \"t5-small\""
   ]
  },
  {
   "cell_type": "code",
   "execution_count": 2,
   "id": "95e95183-9f8c-4c5e-a4aa-98829e6b9f2b",
   "metadata": {},
   "outputs": [],
   "source": [
    "def cleanhtml(raw_html):\n",
    "  cleanr = re.compile('<.*?>')\n",
    "  cleantext = re.sub(cleanr, '', raw_html)\n",
    "  return cleantext\n",
    "\n",
    "def removePattern(text, pattern):\n",
    "\n",
    "    r = re.findall(pattern, text)\n",
    "\n",
    "    for i in r:\n",
    "\n",
    "        text = re.sub(i, '', text)\n",
    "\n",
    "    return text\n",
    "\n",
    "def remove_urls (vTEXT):\n",
    "    vTEXT = re.sub(r'(https|http)?:\\/\\/(\\w|\\.|\\/|\\?|\\=|\\&|\\%)*\\b', '', vTEXT, flags=re.MULTILINE)\n",
    "    return(vTEXT)\n",
    "\n",
    "def sum_clean_text(text):\n",
    "    if type(text)!=str:\n",
    "        return \" \"\n",
    "    text = remove_urls(text)\n",
    "    text = cleanhtml(text)\n",
    "    text = removePattern(text, \"@[\\w]*\")  # remove handles\n",
    "    text = removePattern(text, \"&[\\w]*\")  # remove &amp\n",
    "    return text"
   ]
  },
  {
   "cell_type": "code",
   "execution_count": 3,
   "id": "ca413774-4b5d-456c-8917-e3906039c184",
   "metadata": {},
   "outputs": [],
   "source": [
    "tokenizer = AutoTokenizer.from_pretrained(sum_model)\n",
    "model = AutoModelForSeq2SeqLM.from_pretrained(sum_model)"
   ]
  },
  {
   "cell_type": "code",
   "execution_count": 4,
   "id": "45b68ecb-ead2-411e-a6bf-0c6eca9af08c",
   "metadata": {},
   "outputs": [],
   "source": [
    "prefix = \"summarize: \""
   ]
  },
  {
   "cell_type": "code",
   "execution_count": 5,
   "id": "6aacb645-02fc-4d0b-8eb0-39eb6722b368",
   "metadata": {},
   "outputs": [],
   "source": [
    "text =\"\"\"\n",
    "The US has \"passed the peak\" on new coronavirus cases, President Donald Trump said and predicted that some states would reopen this month.\n",
    "The US has over 637,000 confirmed Covid-19 cases and over 30,826 deaths, the highest for any country in the world.\n",
    "At the daily White House coronavirus briefing on Wednesday, Trump said new guidelines to reopen the country would be announced on Thursday after he speaks to governors.\n",
    "\"We'll be the comeback kids, all of us,\" he said. \"We want to get our country back.\"\n",
    "The Trump administration has previously fixed May 1 as a possible date to reopen the world's largest economy, but the president said some states may be able to return to normalcy earlier than that.\n",
    "\"\"\""
   ]
  },
  {
   "cell_type": "code",
   "execution_count": 7,
   "id": "26f06422-7a61-4d0f-a402-32213b67b10a",
   "metadata": {},
   "outputs": [],
   "source": [
    "min_length=30\n",
    "max_length=512\n",
    "preprocess_text = sum_clean_text(text.strip().replace(\"\\n\",\"\"))\n",
    "t5_prepared_Text = \"summarize: \"+preprocess_text\n",
    "tokenized_text = tokenizer.encode(t5_prepared_Text, return_tensors=\"pt\")\n",
    "summary_ids = model.generate(tokenized_text,\n",
    "                                    num_beams=4,\n",
    "                                    no_repeat_ngram_size=2,\n",
    "                                    min_length=min_length,\n",
    "                                    max_length=max_length,\n",
    "                                    early_stopping=True)"
   ]
  },
  {
   "cell_type": "code",
   "execution_count": 8,
   "id": "33c84b73-c9c5-406a-99f8-acfbae6a7c4d",
   "metadata": {},
   "outputs": [],
   "source": [
    "output = tokenizer.decode(summary_ids[0], skip_special_tokens=True)"
   ]
  },
  {
   "cell_type": "code",
   "execution_count": 9,
   "id": "06a2c337-3428-455d-b145-49b4ae8f912f",
   "metadata": {},
   "outputs": [
    {
     "data": {
      "text/plain": [
       "'the president predicts some states will reopen this month. the u.s. has over 637,000 confirmed cases and over 30,826 deaths, the highest for any country in the world. \"we want to get our country back,\" he says.'"
      ]
     },
     "execution_count": 9,
     "metadata": {},
     "output_type": "execute_result"
    }
   ],
   "source": [
    "output"
   ]
  },
  {
   "cell_type": "code",
   "execution_count": null,
   "id": "de93b5bd-875e-45dd-873a-1b5c08d7231f",
   "metadata": {},
   "outputs": [],
   "source": []
  }
 ],
 "metadata": {
  "kernelspec": {
   "display_name": "Python 3",
   "language": "python",
   "name": "python3"
  },
  "language_info": {
   "codemirror_mode": {
    "name": "ipython",
    "version": 3
   },
   "file_extension": ".py",
   "mimetype": "text/x-python",
   "name": "python",
   "nbconvert_exporter": "python",
   "pygments_lexer": "ipython3",
   "version": "3.7.11"
  }
 },
 "nbformat": 4,
 "nbformat_minor": 5
}

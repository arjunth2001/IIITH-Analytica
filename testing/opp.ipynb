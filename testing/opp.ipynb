{
 "cells": [
  {
   "cell_type": "code",
   "execution_count": 8,
   "id": "6c834793-609c-4f1d-b8bf-547f118e9c14",
   "metadata": {},
   "outputs": [],
   "source": [
    "from transformers import pipeline, AutoModelForSequenceClassification, AutoTokenizer"
   ]
  },
  {
   "cell_type": "code",
   "execution_count": 9,
   "id": "0e379f99-5a4f-486f-8c7c-2c4c2836f747",
   "metadata": {},
   "outputs": [],
   "source": [
    "name = \"arjunth2001/priv_ftc\"\n",
    "model = AutoModelForSequenceClassification.from_pretrained(name)\n",
    "tokenizer = AutoTokenizer.from_pretrained(name)"
   ]
  },
  {
   "cell_type": "code",
   "execution_count": 10,
   "id": "95aba691-d9ad-4f6c-b955-2922a770c1f4",
   "metadata": {},
   "outputs": [],
   "source": [
    "pipe = pipeline('text-classification', model=model, tokenizer=tokenizer)"
   ]
  },
  {
   "cell_type": "code",
   "execution_count": 11,
   "id": "14b70b65-0cc2-4b9f-badf-f86eb0c1ff0e",
   "metadata": {},
   "outputs": [
    {
     "data": {
      "text/plain": [
       "[{'label': 'Third Party Sharing/Collection', 'score': 0.9265565276145935}]"
      ]
     },
     "execution_count": 11,
     "metadata": {},
     "output_type": "execute_result"
    }
   ],
   "source": [
    "pipe(\"We make available to you services, products, applications, or skills provided by third parties for use on or through Amazon Services. For example, the products you order through our marketplace are from third parties, you can download applications from third-party application providers from our App Store, and enable third-party skills through our Alexa services. We also offer services or sell product lines jointly with third-party businesses, such as sellers on the marketplace, restaurants registered on Amazon.in, merchants providing mobile recharges and bill-payment assistance. You can tell when a third party is involved in your transactions, and we share customers’ personal information related to those transactions with that third party.\")"
   ]
  },
  {
   "cell_type": "code",
   "execution_count": null,
   "id": "48084ef0-d969-467c-868e-44f2d08c2181",
   "metadata": {},
   "outputs": [],
   "source": []
  }
 ],
 "metadata": {
  "kernelspec": {
   "display_name": "Python 3",
   "language": "python",
   "name": "python3"
  },
  "language_info": {
   "codemirror_mode": {
    "name": "ipython",
    "version": 3
   },
   "file_extension": ".py",
   "mimetype": "text/x-python",
   "name": "python",
   "nbconvert_exporter": "python",
   "pygments_lexer": "ipython3",
   "version": "3.7.11"
  }
 },
 "nbformat": 4,
 "nbformat_minor": 5
}

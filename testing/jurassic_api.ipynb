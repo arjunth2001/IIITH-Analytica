{
 "cells": [
  {
   "cell_type": "code",
   "execution_count": 24,
   "id": "aa12c92d-ede4-4e1e-942f-e1ce978aca7e",
   "metadata": {},
   "outputs": [],
   "source": [
    "import requests\n",
    "API_KEY=\"\""
   ]
  },
  {
   "cell_type": "code",
   "execution_count": 28,
   "id": "4f596af9-4286-457b-b382-02b930614836",
   "metadata": {},
   "outputs": [],
   "source": [
    "context =\"\"\"Your Messages. We do not retain your messages in the ordinary course of providing our Services to you. Instead, your messages are stored on your device and not typically stored on our servers. Once your messages are delivered, they are deleted from our servers. The following scenarios describe circumstances where we may store your messages in the course of delivering them:\n",
    "Undelivered Messages. If a message cannot be delivered immediately (for example, if the recipient is offline), we keep it in encrypted form on our servers for up to 30 days as we try to deliver it. If a message is still undelivered after 30 days, we delete it.\n",
    "Media Forwarding. When a user forwards media within a message, we store that media temporarily in encrypted form on our servers to aid in more efficient delivery of additional forwards.\n",
    "We offer end-to-end encryption for our Services. End-to-end encryption means that your messages are encrypted to protect against us and third parties from reading them. Learn more about end-to-end encryption and how businesses communicate with you on WhatsApp.\"\"\".replace(\"\\n\",\"\")"
   ]
  },
  {
   "cell_type": "code",
   "execution_count": 29,
   "id": "30ddffe5-0e0c-4f11-a157-04805f783812",
   "metadata": {},
   "outputs": [],
   "source": [
    "question=\"can whatsapp read my messages?\".replace(\"\\n\",\"\")"
   ]
  },
  {
   "cell_type": "code",
   "execution_count": 30,
   "id": "01179f62-fc40-4d8c-a30a-6045ee02839e",
   "metadata": {},
   "outputs": [],
   "source": [
    "prompt=f\"Answer the Question based upon the Context.\\nContext: {context}\\nQuestion: {question}\\nAnswer:\\n\""
   ]
  },
  {
   "cell_type": "code",
   "execution_count": 31,
   "id": "6c9bfaa4-dcd1-4b84-88d6-33eb99d7be47",
   "metadata": {},
   "outputs": [],
   "source": [
    "res=requests.post(\n",
    "    \"https://api.ai21.com/studio/v1/j1-large/complete\",\n",
    "    headers={\"Authorization\": f\"Bearer {API_KEY}\"},\n",
    "    json={\n",
    "        \"prompt\": prompt, \n",
    "        \"numResults\": 1, \n",
    "        \"maxTokens\": 64, \n",
    "        \"stopSequences\": [\".\"],\n",
    "        \"topKReturn\": 0,\n",
    "        \"temperature\": 0.7\n",
    "    }\n",
    ")"
   ]
  },
  {
   "cell_type": "code",
   "execution_count": 32,
   "id": "4b6e3428-43e5-4838-b09c-7a185756b777",
   "metadata": {},
   "outputs": [
    {
     "data": {
      "text/plain": [
       "'No'"
      ]
     },
     "execution_count": 32,
     "metadata": {},
     "output_type": "execute_result"
    }
   ],
   "source": [
    "res.json()[\"completions\"][0][\"data\"][\"text\"]"
   ]
  },
  {
   "cell_type": "code",
   "execution_count": null,
   "id": "62498a0d-f8e7-4438-b81c-05c68a6fb3e7",
   "metadata": {},
   "outputs": [],
   "source": []
  }
 ],
 "metadata": {
  "kernelspec": {
   "display_name": "Python 3",
   "language": "python",
   "name": "python3"
  },
  "language_info": {
   "codemirror_mode": {
    "name": "ipython",
    "version": 3
   },
   "file_extension": ".py",
   "mimetype": "text/x-python",
   "name": "python",
   "nbconvert_exporter": "python",
   "pygments_lexer": "ipython3",
   "version": "3.7.11"
  }
 },
 "nbformat": 4,
 "nbformat_minor": 5
}

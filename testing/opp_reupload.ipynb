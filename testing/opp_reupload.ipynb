{
 "cells": [
  {
   "cell_type": "code",
   "execution_count": 7,
   "id": "c82ed080-e42e-46d3-8bf6-7c5d62e81185",
   "metadata": {},
   "outputs": [],
   "source": [
    "from transformers import AutoModelForSequenceClassification, AutoTokenizer,AutoConfig\n",
    "model_ckpt= \"arjunth2001/priv_ftc\""
   ]
  },
  {
   "cell_type": "code",
   "execution_count": 8,
   "id": "ce84713a-756f-4afb-9c77-7804e29d6bc5",
   "metadata": {},
   "outputs": [],
   "source": [
    "labels=['First Party Collection/Use',\n",
    "          'Third Party Sharing/Collection',\n",
    "          'Other',\n",
    "          'International and Specific Audiences',\n",
    "          'Data Security',\n",
    "          'User Choice/Control',\n",
    "          'User Access, Edit and Deletion',\n",
    "          'Data Retention',\n",
    "          'Policy Change',\n",
    "          'Do Not Track']\n",
    "label2id = {l:labels.index(l) for l in labels}\n",
    "id2label = {i:labels[i] for i in range(len(labels))}"
   ]
  },
  {
   "cell_type": "code",
   "execution_count": 9,
   "id": "4ecc9ddc-df46-443c-bb30-ffe5f299858a",
   "metadata": {},
   "outputs": [
    {
     "data": {
      "text/plain": [
       "{'First Party Collection/Use': 0,\n",
       " 'Third Party Sharing/Collection': 1,\n",
       " 'Other': 2,\n",
       " 'International and Specific Audiences': 3,\n",
       " 'Data Security': 4,\n",
       " 'User Choice/Control': 5,\n",
       " 'User Access, Edit and Deletion': 6,\n",
       " 'Data Retention': 7,\n",
       " 'Policy Change': 8,\n",
       " 'Do Not Track': 9}"
      ]
     },
     "execution_count": 9,
     "metadata": {},
     "output_type": "execute_result"
    }
   ],
   "source": [
    "label2id"
   ]
  },
  {
   "cell_type": "code",
   "execution_count": 10,
   "id": "73a780aa-daed-49b0-a208-c2bc23234c41",
   "metadata": {},
   "outputs": [
    {
     "data": {
      "text/plain": [
       "{0: 'First Party Collection/Use',\n",
       " 1: 'Third Party Sharing/Collection',\n",
       " 2: 'Other',\n",
       " 3: 'International and Specific Audiences',\n",
       " 4: 'Data Security',\n",
       " 5: 'User Choice/Control',\n",
       " 6: 'User Access, Edit and Deletion',\n",
       " 7: 'Data Retention',\n",
       " 8: 'Policy Change',\n",
       " 9: 'Do Not Track'}"
      ]
     },
     "execution_count": 10,
     "metadata": {},
     "output_type": "execute_result"
    }
   ],
   "source": [
    "id2label"
   ]
  },
  {
   "cell_type": "code",
   "execution_count": 11,
   "id": "5b1172e9-13ca-432c-aeaa-102a02bef986",
   "metadata": {},
   "outputs": [],
   "source": [
    "config = AutoConfig.from_pretrained(model_ckpt, label2id=label2id, id2label=id2label)\n",
    "model = AutoModelForSequenceClassification.from_pretrained(model_ckpt, config=config)"
   ]
  },
  {
   "cell_type": "code",
   "execution_count": 12,
   "id": "f042416b-4bb3-49b3-8d09-7265a26716ae",
   "metadata": {},
   "outputs": [
    {
     "data": {
      "application/vnd.jupyter.widget-view+json": {
       "model_id": "a159769de89047948dc7e73236cef96d",
       "version_major": 2,
       "version_minor": 0
      },
      "text/plain": [
       "VBox(children=(HTML(value=\"<center>\\n<img src=https://huggingface.co/front/assets/huggingface_logo-noborder.sv…"
      ]
     },
     "metadata": {},
     "output_type": "display_data"
    }
   ],
   "source": [
    "from huggingface_hub import notebook_login\n",
    "notebook_login()"
   ]
  },
  {
   "cell_type": "code",
   "execution_count": 14,
   "id": "bcbfe4f7-1a35-471e-afd6-f5f999d74ec2",
   "metadata": {},
   "outputs": [
    {
     "name": "stderr",
     "output_type": "stream",
     "text": [
      "Cloning https://huggingface.co/arjunth2001/priv_ftc into local empty directory.\n"
     ]
    },
    {
     "data": {
      "application/vnd.jupyter.widget-view+json": {
       "model_id": "a22ea9a06cfb4d249635716dfd9de195",
       "version_major": 2,
       "version_minor": 0
      },
      "text/plain": [
       "Download file pytorch_model.bin:   0%|          | 16.0k/418M [00:00<?, ?B/s]"
      ]
     },
     "metadata": {},
     "output_type": "display_data"
    },
    {
     "data": {
      "application/vnd.jupyter.widget-view+json": {
       "model_id": "3b9802e020ca4abea9e0d556901b9306",
       "version_major": 2,
       "version_minor": 0
      },
      "text/plain": [
       "Clean file pytorch_model.bin:   0%|          | 1.00k/418M [00:00<?, ?B/s]"
      ]
     },
     "metadata": {},
     "output_type": "display_data"
    },
    {
     "name": "stderr",
     "output_type": "stream",
     "text": [
      "To https://huggingface.co/arjunth2001/priv_ftc\n",
      "   588fff5..74acbe2  main -> main\n",
      "\n"
     ]
    },
    {
     "data": {
      "text/plain": [
       "'https://huggingface.co/arjunth2001/priv_ftc/commit/74acbe22d2444a3257575c137af4f1cdb1363f71'"
      ]
     },
     "execution_count": 14,
     "metadata": {},
     "output_type": "execute_result"
    }
   ],
   "source": [
    "model.push_to_hub(\"priv_ftc\")"
   ]
  },
  {
   "cell_type": "code",
   "execution_count": null,
   "id": "48a8f5cd-6e8c-4fdb-98f8-599ee1947a44",
   "metadata": {},
   "outputs": [],
   "source": []
  }
 ],
 "metadata": {
  "kernelspec": {
   "display_name": "Python 3",
   "language": "python",
   "name": "python3"
  },
  "language_info": {
   "codemirror_mode": {
    "name": "ipython",
    "version": 3
   },
   "file_extension": ".py",
   "mimetype": "text/x-python",
   "name": "python",
   "nbconvert_exporter": "python",
   "pygments_lexer": "ipython3",
   "version": "3.7.11"
  }
 },
 "nbformat": 4,
 "nbformat_minor": 5
}

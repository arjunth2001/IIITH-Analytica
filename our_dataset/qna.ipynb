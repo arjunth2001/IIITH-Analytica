{
 "cells": [
  {
   "cell_type": "code",
   "execution_count": 1,
   "id": "0ad3a137-fdb7-4cb2-9efa-708f8067f765",
   "metadata": {},
   "outputs": [],
   "source": [
    "import pandas as pd"
   ]
  },
  {
   "cell_type": "code",
   "execution_count": 8,
   "id": "8b8a7d07-09f7-4137-8b11-cd1c31d35dd9",
   "metadata": {},
   "outputs": [],
   "source": [
    "df = pd.read_csv(\"qna.csv\")"
   ]
  },
  {
   "cell_type": "code",
   "execution_count": 9,
   "id": "0e738599-cfc5-489a-bb52-52cb55c3eb9e",
   "metadata": {},
   "outputs": [
    {
     "data": {
      "text/html": [
       "<div>\n",
       "<style scoped>\n",
       "    .dataframe tbody tr th:only-of-type {\n",
       "        vertical-align: middle;\n",
       "    }\n",
       "\n",
       "    .dataframe tbody tr th {\n",
       "        vertical-align: top;\n",
       "    }\n",
       "\n",
       "    .dataframe thead th {\n",
       "        text-align: right;\n",
       "    }\n",
       "</style>\n",
       "<table border=\"1\" class=\"dataframe\">\n",
       "  <thead>\n",
       "    <tr style=\"text-align: right;\">\n",
       "      <th></th>\n",
       "      <th>context</th>\n",
       "      <th>question</th>\n",
       "      <th>answer</th>\n",
       "    </tr>\n",
       "  </thead>\n",
       "  <tbody>\n",
       "    <tr>\n",
       "      <th>0</th>\n",
       "      <td>All Enthusiast, Inc.'s Privacy Policy\\n\\nAll E...</td>\n",
       "      <td>Does the website use cookies?</td>\n",
       "      <td>Cookies: In order to offer and provide a custo...</td>\n",
       "    </tr>\n",
       "    <tr>\n",
       "      <th>1</th>\n",
       "      <td>All Enthusiast, Inc.'s Privacy Policy\\n\\nAll E...</td>\n",
       "      <td>Can third party issue cookies?</td>\n",
       "      <td>Cookies: In order to offer and provide a custo...</td>\n",
       "    </tr>\n",
       "    <tr>\n",
       "      <th>2</th>\n",
       "      <td>All Enthusiast, Inc.'s Privacy Policy\\n\\nAll E...</td>\n",
       "      <td>What are the cookies used for?</td>\n",
       "      <td>Cookies: In order to offer and provide a custo...</td>\n",
       "    </tr>\n",
       "    <tr>\n",
       "      <th>3</th>\n",
       "      <td>ABOUT US\\n\\nnewsday.com strives to offer its v...</td>\n",
       "      <td>Can advertising partners email you?</td>\n",
       "      <td>The quality news and information on newsday.co...</td>\n",
       "    </tr>\n",
       "    <tr>\n",
       "      <th>4</th>\n",
       "      <td>ABOUT US\\n\\nnewsday.com strives to offer its v...</td>\n",
       "      <td>Can you decline advertising partners?</td>\n",
       "      <td>The quality news and information on newsday.co...</td>\n",
       "    </tr>\n",
       "    <tr>\n",
       "      <th>...</th>\n",
       "      <td>...</td>\n",
       "      <td>...</td>\n",
       "      <td>...</td>\n",
       "    </tr>\n",
       "    <tr>\n",
       "      <th>900</th>\n",
       "      <td>Auckland Transport is committed to protecting ...</td>\n",
       "      <td>Will there be any changes to this privacy poli...</td>\n",
       "      <td>We may change this Privacy Policy from time to...</td>\n",
       "    </tr>\n",
       "    <tr>\n",
       "      <th>901</th>\n",
       "      <td>Event Cinemas Privacy Policy\\n\\nThe EVENT Grou...</td>\n",
       "      <td>Why are cookies used ?</td>\n",
       "      <td>We may also work with third parties and use te...</td>\n",
       "    </tr>\n",
       "    <tr>\n",
       "      <th>902</th>\n",
       "      <td>Event Cinemas Privacy Policy\\n\\nThe EVENT Grou...</td>\n",
       "      <td>Are cookies used on this site ?</td>\n",
       "      <td>We may also work with third parties and use te...</td>\n",
       "    </tr>\n",
       "    <tr>\n",
       "      <th>903</th>\n",
       "      <td>We at DomainBrokers.com, our associates and af...</td>\n",
       "      <td>Can I be redirected to a third party site from...</td>\n",
       "      <td>Users should be aware that on our affiliated w...</td>\n",
       "    </tr>\n",
       "    <tr>\n",
       "      <th>904</th>\n",
       "      <td>This Privacy Notice applies to information, in...</td>\n",
       "      <td>What happens if I do not provide my personal i...</td>\n",
       "      <td>* If you do not wish to provide your persona...</td>\n",
       "    </tr>\n",
       "  </tbody>\n",
       "</table>\n",
       "<p>905 rows × 3 columns</p>\n",
       "</div>"
      ],
      "text/plain": [
       "                                               context  \\\n",
       "0    All Enthusiast, Inc.'s Privacy Policy\\n\\nAll E...   \n",
       "1    All Enthusiast, Inc.'s Privacy Policy\\n\\nAll E...   \n",
       "2    All Enthusiast, Inc.'s Privacy Policy\\n\\nAll E...   \n",
       "3    ABOUT US\\n\\nnewsday.com strives to offer its v...   \n",
       "4    ABOUT US\\n\\nnewsday.com strives to offer its v...   \n",
       "..                                                 ...   \n",
       "900  Auckland Transport is committed to protecting ...   \n",
       "901  Event Cinemas Privacy Policy\\n\\nThe EVENT Grou...   \n",
       "902  Event Cinemas Privacy Policy\\n\\nThe EVENT Grou...   \n",
       "903  We at DomainBrokers.com, our associates and af...   \n",
       "904  This Privacy Notice applies to information, in...   \n",
       "\n",
       "                                              question  \\\n",
       "0                        Does the website use cookies?   \n",
       "1                       Can third party issue cookies?   \n",
       "2                       What are the cookies used for?   \n",
       "3                  Can advertising partners email you?   \n",
       "4                Can you decline advertising partners?   \n",
       "..                                                 ...   \n",
       "900  Will there be any changes to this privacy poli...   \n",
       "901                             Why are cookies used ?   \n",
       "902                    Are cookies used on this site ?   \n",
       "903  Can I be redirected to a third party site from...   \n",
       "904  What happens if I do not provide my personal i...   \n",
       "\n",
       "                                                answer  \n",
       "0    Cookies: In order to offer and provide a custo...  \n",
       "1    Cookies: In order to offer and provide a custo...  \n",
       "2    Cookies: In order to offer and provide a custo...  \n",
       "3    The quality news and information on newsday.co...  \n",
       "4    The quality news and information on newsday.co...  \n",
       "..                                                 ...  \n",
       "900  We may change this Privacy Policy from time to...  \n",
       "901  We may also work with third parties and use te...  \n",
       "902  We may also work with third parties and use te...  \n",
       "903  Users should be aware that on our affiliated w...  \n",
       "904    * If you do not wish to provide your persona...  \n",
       "\n",
       "[905 rows x 3 columns]"
      ]
     },
     "execution_count": 9,
     "metadata": {},
     "output_type": "execute_result"
    }
   ],
   "source": [
    "df"
   ]
  },
  {
   "cell_type": "code",
   "execution_count": 5,
   "id": "e9931294-c519-42a4-817e-2e89cfe92642",
   "metadata": {},
   "outputs": [],
   "source": [
    "df = df[[\"context\",\"question\",\"answer\"]]"
   ]
  },
  {
   "cell_type": "code",
   "execution_count": 7,
   "id": "301d7fff-6ccc-4494-a7ed-b71dac073333",
   "metadata": {},
   "outputs": [],
   "source": [
    "df.to_csv(\"qna.csv\",index=False)"
   ]
  },
  {
   "cell_type": "code",
   "execution_count": null,
   "id": "064e4176-bd66-4808-a1f8-7dba8568e7cb",
   "metadata": {},
   "outputs": [],
   "source": []
  }
 ],
 "metadata": {
  "kernelspec": {
   "display_name": "Python 3",
   "language": "python",
   "name": "python3"
  },
  "language_info": {
   "codemirror_mode": {
    "name": "ipython",
    "version": 3
   },
   "file_extension": ".py",
   "mimetype": "text/x-python",
   "name": "python",
   "nbconvert_exporter": "python",
   "pygments_lexer": "ipython3",
   "version": "3.7.11"
  }
 },
 "nbformat": 4,
 "nbformat_minor": 5
}

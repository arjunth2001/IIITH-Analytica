{
 "cells": [
  {
   "cell_type": "code",
   "execution_count": 2,
   "id": "ee1a9b13-5260-4b89-ab25-c18cf9780c27",
   "metadata": {},
   "outputs": [
    {
     "data": {
      "application/vnd.jupyter.widget-view+json": {
       "model_id": "e7a5ec08a05245c89a043f41bc77408e",
       "version_major": 2,
       "version_minor": 0
      },
      "text/plain": [
       "VBox(children=(HTML(value=\"<center>\\n<img src=https://huggingface.co/front/assets/huggingface_logo-noborder.sv…"
      ]
     },
     "metadata": {},
     "output_type": "display_data"
    }
   ],
   "source": [
    "from huggingface_hub import notebook_login\n",
    "\n",
    "notebook_login()"
   ]
  },
  {
   "cell_type": "code",
   "execution_count": 3,
   "id": "f14b8a32-d411-47f7-bf4c-26329c0f0c2a",
   "metadata": {},
   "outputs": [],
   "source": [
    "from transformers import AutoModelForSeq2SeqLM\n",
    "model = AutoModelForSeq2SeqLM.from_pretrained(\"./t5_sum\")"
   ]
  },
  {
   "cell_type": "code",
   "execution_count": 5,
   "id": "e2eb282b-e08e-44e5-889a-ea7df93595cd",
   "metadata": {},
   "outputs": [
    {
     "name": "stderr",
     "output_type": "stream",
     "text": [
      "Cloning https://huggingface.co/arjunth2001/priv_sum into local empty directory.\n"
     ]
    },
    {
     "data": {
      "application/vnd.jupyter.widget-view+json": {
       "model_id": "af98ddb62e7e4c5787fe7b55239a75bf",
       "version_major": 2,
       "version_minor": 0
      },
      "text/plain": [
       "Upload file pytorch_model.bin:   0%|          | 32.0k/231M [00:00<?, ?B/s]"
      ]
     },
     "metadata": {},
     "output_type": "display_data"
    },
    {
     "name": "stderr",
     "output_type": "stream",
     "text": [
      "To https://user:SFytJqzKTlUEOVccabisiKXvMZFMfNYGZSRWMgfKxtIaxIPWzkvcphPvxsZwFfNwYWAbOKJBlIloPIbRrVyXeOBtXGznposTywWjSwGDOImYOueBTsEaEXCegRqSosJC@huggingface.co/arjunth2001/priv_sum\n",
      "   b8b6540..699c7e6  main -> main\n",
      "\n"
     ]
    },
    {
     "data": {
      "text/plain": [
       "'https://huggingface.co/arjunth2001/priv_sum/commit/699c7e61e5689aa31fd94e62a4f2ae09b957e763'"
      ]
     },
     "execution_count": 5,
     "metadata": {},
     "output_type": "execute_result"
    }
   ],
   "source": [
    "model.push_to_hub(\"priv_sum\")"
   ]
  },
  {
   "cell_type": "code",
   "execution_count": 6,
   "id": "3eec5acb-d3aa-419a-a152-1dcee68ead77",
   "metadata": {},
   "outputs": [],
   "source": [
    "from transformers import AutoTokenizer \n",
    "tokenizer = AutoTokenizer.from_pretrained(\"./t5_sum\")"
   ]
  },
  {
   "cell_type": "code",
   "execution_count": 7,
   "id": "1e322727-0020-4631-b162-793ff3d1bfe0",
   "metadata": {},
   "outputs": [
    {
     "name": "stderr",
     "output_type": "stream",
     "text": [
      "To https://user:SFytJqzKTlUEOVccabisiKXvMZFMfNYGZSRWMgfKxtIaxIPWzkvcphPvxsZwFfNwYWAbOKJBlIloPIbRrVyXeOBtXGznposTywWjSwGDOImYOueBTsEaEXCegRqSosJC@huggingface.co/arjunth2001/priv_sum\n",
      "   699c7e6..349d0b1  main -> main\n",
      "\n"
     ]
    },
    {
     "data": {
      "text/plain": [
       "'https://huggingface.co/arjunth2001/priv_sum/commit/349d0b1f365406eb05a8afc428ec1bb50cf8255f'"
      ]
     },
     "execution_count": 7,
     "metadata": {},
     "output_type": "execute_result"
    }
   ],
   "source": [
    "tokenizer.push_to_hub(\"priv_sum\")"
   ]
  },
  {
   "cell_type": "code",
   "execution_count": null,
   "id": "89c58fb6-75e5-4483-9667-5f9c6ac3bf44",
   "metadata": {},
   "outputs": [],
   "source": []
  }
 ],
 "metadata": {
  "kernelspec": {
   "display_name": "Python 3 (ipykernel)",
   "language": "python",
   "name": "python3"
  },
  "language_info": {
   "codemirror_mode": {
    "name": "ipython",
    "version": 3
   },
   "file_extension": ".py",
   "mimetype": "text/x-python",
   "name": "python",
   "nbconvert_exporter": "python",
   "pygments_lexer": "ipython3",
   "version": "3.7.0"
  }
 },
 "nbformat": 4,
 "nbformat_minor": 5
}

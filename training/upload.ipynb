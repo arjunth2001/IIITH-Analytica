{
 "cells": [
  {
   "cell_type": "code",
   "execution_count": 1,
   "id": "ee1a9b13-5260-4b89-ab25-c18cf9780c27",
   "metadata": {},
   "outputs": [
    {
     "data": {
      "application/vnd.jupyter.widget-view+json": {
       "model_id": "9c207cbfd3444390bfd02422f8030c3b",
       "version_major": 2,
       "version_minor": 0
      },
      "text/plain": [
       "VBox(children=(HTML(value=\"<center>\\n<img src=https://huggingface.co/front/assets/huggingface_logo-noborder.sv…"
      ]
     },
     "metadata": {},
     "output_type": "display_data"
    }
   ],
   "source": [
    "from huggingface_hub import notebook_login\n",
    "\n",
    "notebook_login()"
   ]
  },
  {
   "cell_type": "code",
   "execution_count": 2,
   "id": "f14b8a32-d411-47f7-bf4c-26329c0f0c2a",
   "metadata": {},
   "outputs": [],
   "source": [
    "from transformers import AutoModelForQuestionAnswering\n",
    "model = AutoModelForQuestionAnswering.from_pretrained(\"./roberta_qna\")"
   ]
  },
  {
   "cell_type": "code",
   "execution_count": 3,
   "id": "e2eb282b-e08e-44e5-889a-ea7df93595cd",
   "metadata": {},
   "outputs": [
    {
     "name": "stderr",
     "output_type": "stream",
     "text": [
      "Cloning https://huggingface.co/arjunth2001/priv_qna into local empty directory.\n"
     ]
    },
    {
     "data": {
      "application/vnd.jupyter.widget-view+json": {
       "model_id": "75cf610865ce4740bcae9cf21c37e18a",
       "version_major": 2,
       "version_minor": 0
      },
      "text/plain": [
       "Upload file pytorch_model.bin:   0%|          | 32.0k/473M [00:00<?, ?B/s]"
      ]
     },
     "metadata": {},
     "output_type": "display_data"
    },
    {
     "name": "stderr",
     "output_type": "stream",
     "text": [
      "To https://user:SFytJqzKTlUEOVccabisiKXvMZFMfNYGZSRWMgfKxtIaxIPWzkvcphPvxsZwFfNwYWAbOKJBlIloPIbRrVyXeOBtXGznposTywWjSwGDOImYOueBTsEaEXCegRqSosJC@huggingface.co/arjunth2001/priv_qna\n",
      "   b869641..12fe9be  main -> main\n",
      "\n"
     ]
    },
    {
     "data": {
      "text/plain": [
       "'https://huggingface.co/arjunth2001/priv_qna/commit/12fe9be7a945cc7572edacc980f347a03a355227'"
      ]
     },
     "execution_count": 3,
     "metadata": {},
     "output_type": "execute_result"
    }
   ],
   "source": [
    "model.push_to_hub(\"priv_qna\")"
   ]
  },
  {
   "cell_type": "code",
   "execution_count": 4,
   "id": "3eec5acb-d3aa-419a-a152-1dcee68ead77",
   "metadata": {},
   "outputs": [],
   "source": [
    "from transformers import AutoTokenizer \n",
    "tokenizer = AutoTokenizer.from_pretrained(\"./roberta_qna\")"
   ]
  },
  {
   "cell_type": "code",
   "execution_count": 5,
   "id": "1e322727-0020-4631-b162-793ff3d1bfe0",
   "metadata": {},
   "outputs": [
    {
     "name": "stderr",
     "output_type": "stream",
     "text": [
      "To https://user:SFytJqzKTlUEOVccabisiKXvMZFMfNYGZSRWMgfKxtIaxIPWzkvcphPvxsZwFfNwYWAbOKJBlIloPIbRrVyXeOBtXGznposTywWjSwGDOImYOueBTsEaEXCegRqSosJC@huggingface.co/arjunth2001/priv_qna\n",
      "   12fe9be..5493723  main -> main\n",
      "\n"
     ]
    },
    {
     "data": {
      "text/plain": [
       "'https://huggingface.co/arjunth2001/priv_qna/commit/5493723c158c0e3166a859a87301ad6643eaa744'"
      ]
     },
     "execution_count": 5,
     "metadata": {},
     "output_type": "execute_result"
    }
   ],
   "source": [
    "tokenizer.push_to_hub(\"priv_qna\")"
   ]
  },
  {
   "cell_type": "code",
   "execution_count": null,
   "id": "89c58fb6-75e5-4483-9667-5f9c6ac3bf44",
   "metadata": {},
   "outputs": [],
   "source": []
  }
 ],
 "metadata": {
  "kernelspec": {
   "display_name": "Python 3 (ipykernel)",
   "language": "python",
   "name": "python3"
  },
  "language_info": {
   "codemirror_mode": {
    "name": "ipython",
    "version": 3
   },
   "file_extension": ".py",
   "mimetype": "text/x-python",
   "name": "python",
   "nbconvert_exporter": "python",
   "pygments_lexer": "ipython3",
   "version": "3.7.0"
  }
 },
 "nbformat": 4,
 "nbformat_minor": 5
}

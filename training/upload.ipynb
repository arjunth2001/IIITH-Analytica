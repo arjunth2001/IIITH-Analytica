{
 "cells": [
  {
   "cell_type": "code",
   "execution_count": null,
   "id": "ee1a9b13-5260-4b89-ab25-c18cf9780c27",
   "metadata": {},
   "outputs": [],
   "source": [
    "from huggingface_hub import notebook_login\n",
    "notebook_login()"
   ]
  },
  {
   "cell_type": "code",
   "execution_count": null,
   "id": "f14b8a32-d411-47f7-bf4c-26329c0f0c2a",
   "metadata": {},
   "outputs": [],
   "source": [
    "from transformers import AutoModelForSequenceClassification\n",
    "model = AutoModelForSequenceClassification.from_pretrained(\"./model_opp115\")"
   ]
  },
  {
   "cell_type": "code",
   "execution_count": null,
   "id": "e2eb282b-e08e-44e5-889a-ea7df93595cd",
   "metadata": {},
   "outputs": [],
   "source": [
    "model.push_to_hub(\"priv_ftc\")"
   ]
  },
  {
   "cell_type": "code",
   "execution_count": null,
   "id": "3eec5acb-d3aa-419a-a152-1dcee68ead77",
   "metadata": {},
   "outputs": [],
   "source": [
    "from transformers import AutoTokenizer \n",
    "tokenizer = AutoTokenizer.from_pretrained(\"bert-base-uncased\")"
   ]
  },
  {
   "cell_type": "code",
   "execution_count": null,
   "id": "1e322727-0020-4631-b162-793ff3d1bfe0",
   "metadata": {},
   "outputs": [],
   "source": [
    "tokenizer.push_to_hub(\"priv_ftc\")"
   ]
  },
  {
   "cell_type": "code",
   "execution_count": null,
   "id": "89c58fb6-75e5-4483-9667-5f9c6ac3bf44",
   "metadata": {},
   "outputs": [],
   "source": []
  }
 ],
 "metadata": {
  "kernelspec": {
   "display_name": "Python 3 (ipykernel)",
   "language": "python",
   "name": "python3"
  },
  "language_info": {
   "codemirror_mode": {
    "name": "ipython",
    "version": 3
   },
   "file_extension": ".py",
   "mimetype": "text/x-python",
   "name": "python",
   "nbconvert_exporter": "python",
   "pygments_lexer": "ipython3",
   "version": "3.7.0"
  }
 },
 "nbformat": 4,
 "nbformat_minor": 5
}

{
 "cells": [
  {
   "cell_type": "code",
   "execution_count": 1,
   "id": "60d121d8-79d2-45b7-b7a4-891f37bbbf7d",
   "metadata": {},
   "outputs": [],
   "source": [
    "import os\n",
    "from bs4 import BeautifulSoup\n",
    "import pandas as pd\n",
    "files = [i for i in os.listdir(\"raw_htmls\") if \".html\" in i]"
   ]
  },
  {
   "cell_type": "code",
   "execution_count": 2,
   "id": "b1d0aa7a-9a11-4c60-9929-78c4b31c25bf",
   "metadata": {},
   "outputs": [],
   "source": [
    "names = []\n",
    "bodies = []\n",
    "for file in files:\n",
    "    with open(f\"raw_htmls/{file}\") as fp:\n",
    "        text=[i for i in BeautifulSoup(fp, \"html.parser\").stripped_strings if len(i.split())>=6]\n",
    "    bodies.append(list(text))\n",
    "    names.append(file.replace(\".html\",\"\"))"
   ]
  },
  {
   "cell_type": "code",
   "execution_count": 3,
   "id": "6c0ed84b-e9c2-4a51-9968-f8c0dc873241",
   "metadata": {},
   "outputs": [],
   "source": [
    "df = pd.DataFrame({\"name\":names,\"body\":bodies})"
   ]
  },
  {
   "cell_type": "code",
   "execution_count": 4,
   "id": "a98d3365-c6cf-4d3c-90c4-a00e727dd45c",
   "metadata": {},
   "outputs": [],
   "source": [
    "df.to_csv(\"fortune500_policies.csv\",index=False)"
   ]
  },
  {
   "cell_type": "code",
   "execution_count": 5,
   "id": "d4f6fd7b-4a86-4e86-9221-678635b20244",
   "metadata": {},
   "outputs": [
    {
     "data": {
      "text/html": [
       "<div>\n",
       "<style scoped>\n",
       "    .dataframe tbody tr th:only-of-type {\n",
       "        vertical-align: middle;\n",
       "    }\n",
       "\n",
       "    .dataframe tbody tr th {\n",
       "        vertical-align: top;\n",
       "    }\n",
       "\n",
       "    .dataframe thead th {\n",
       "        text-align: right;\n",
       "    }\n",
       "</style>\n",
       "<table border=\"1\" class=\"dataframe\">\n",
       "  <thead>\n",
       "    <tr style=\"text-align: right;\">\n",
       "      <th></th>\n",
       "      <th>name</th>\n",
       "      <th>body</th>\n",
       "    </tr>\n",
       "  </thead>\n",
       "  <tbody>\n",
       "    <tr>\n",
       "      <th>0</th>\n",
       "      <td>468_www_ameren_com</td>\n",
       "      <td>[Select your state to personalize your experie...</td>\n",
       "    </tr>\n",
       "    <tr>\n",
       "      <th>1</th>\n",
       "      <td>170_www_fcx_com</td>\n",
       "      <td>[Freeport-McMoRan ONLINE PRIVACY NOTICE | Free...</td>\n",
       "    </tr>\n",
       "    <tr>\n",
       "      <th>2</th>\n",
       "      <td>90_agreementservice_svs_nike_com</td>\n",
       "      <td>[This privacy policy describes the personal da...</td>\n",
       "    </tr>\n",
       "    <tr>\n",
       "      <th>3</th>\n",
       "      <td>208_www_jacobs_com</td>\n",
       "      <td>[Privacy Statement &amp; Terms of Use | Jacobs, Ja...</td>\n",
       "    </tr>\n",
       "    <tr>\n",
       "      <th>4</th>\n",
       "      <td>261_www_jcpenney_com</td>\n",
       "      <td>[Information we collect and how we collect it,...</td>\n",
       "    </tr>\n",
       "    <tr>\n",
       "      <th>...</th>\n",
       "      <td>...</td>\n",
       "      <td>...</td>\n",
       "    </tr>\n",
       "    <tr>\n",
       "      <th>480</th>\n",
       "      <td>165_www_avnet_com</td>\n",
       "      <td>[Global Data Protection Policy | Avnet, Sugges...</td>\n",
       "    </tr>\n",
       "    <tr>\n",
       "      <th>481</th>\n",
       "      <td>211_www_mmc_com</td>\n",
       "      <td>[Marsh &amp; McLennan Companies, Inc. (the “Compan...</td>\n",
       "    </tr>\n",
       "    <tr>\n",
       "      <th>482</th>\n",
       "      <td>435_www_ajg_com</td>\n",
       "      <td>[Government, K-12 Schools &amp; Public Entities, A...</td>\n",
       "    </tr>\n",
       "    <tr>\n",
       "      <th>483</th>\n",
       "      <td>458_www_dillards_com</td>\n",
       "      <td>[PICK UP IN STORE NOW AVAILABLE! Free shipping...</td>\n",
       "    </tr>\n",
       "    <tr>\n",
       "      <th>484</th>\n",
       "      <td>111_www_northwesternmutual_com</td>\n",
       "      <td>[Online Privacy Statement | Northwestern Mutua...</td>\n",
       "    </tr>\n",
       "  </tbody>\n",
       "</table>\n",
       "<p>485 rows × 2 columns</p>\n",
       "</div>"
      ],
      "text/plain": [
       "                                 name  \\\n",
       "0                  468_www_ameren_com   \n",
       "1                     170_www_fcx_com   \n",
       "2    90_agreementservice_svs_nike_com   \n",
       "3                  208_www_jacobs_com   \n",
       "4                261_www_jcpenney_com   \n",
       "..                                ...   \n",
       "480                 165_www_avnet_com   \n",
       "481                   211_www_mmc_com   \n",
       "482                   435_www_ajg_com   \n",
       "483              458_www_dillards_com   \n",
       "484    111_www_northwesternmutual_com   \n",
       "\n",
       "                                                  body  \n",
       "0    [Select your state to personalize your experie...  \n",
       "1    [Freeport-McMoRan ONLINE PRIVACY NOTICE | Free...  \n",
       "2    [This privacy policy describes the personal da...  \n",
       "3    [Privacy Statement & Terms of Use | Jacobs, Ja...  \n",
       "4    [Information we collect and how we collect it,...  \n",
       "..                                                 ...  \n",
       "480  [Global Data Protection Policy | Avnet, Sugges...  \n",
       "481  [Marsh & McLennan Companies, Inc. (the “Compan...  \n",
       "482  [Government, K-12 Schools & Public Entities, A...  \n",
       "483  [PICK UP IN STORE NOW AVAILABLE! Free shipping...  \n",
       "484  [Online Privacy Statement | Northwestern Mutua...  \n",
       "\n",
       "[485 rows x 2 columns]"
      ]
     },
     "execution_count": 5,
     "metadata": {},
     "output_type": "execute_result"
    }
   ],
   "source": [
    "df"
   ]
  },
  {
   "cell_type": "code",
   "execution_count": 6,
   "id": "8ea62527-fb05-44ac-b628-3697aff63615",
   "metadata": {},
   "outputs": [
    {
     "data": {
      "text/plain": [
       "485"
      ]
     },
     "execution_count": 6,
     "metadata": {},
     "output_type": "execute_result"
    }
   ],
   "source": [
    "len(df)"
   ]
  },
  {
   "cell_type": "code",
   "execution_count": 7,
   "id": "98d4905e-d366-491f-ba54-544f7b81b770",
   "metadata": {},
   "outputs": [],
   "source": [
    "total_fortune = 485"
   ]
  },
  {
   "cell_type": "code",
   "execution_count": null,
   "id": "5c0fee87-db9a-4e13-a6c5-ec01ec636627",
   "metadata": {},
   "outputs": [],
   "source": []
  }
 ],
 "metadata": {
  "kernelspec": {
   "display_name": "Python 3",
   "language": "python",
   "name": "python3"
  },
  "language_info": {
   "codemirror_mode": {
    "name": "ipython",
    "version": 3
   },
   "file_extension": ".py",
   "mimetype": "text/x-python",
   "name": "python",
   "nbconvert_exporter": "python",
   "pygments_lexer": "ipython3",
   "version": "3.7.11"
  }
 },
 "nbformat": 4,
 "nbformat_minor": 5
}

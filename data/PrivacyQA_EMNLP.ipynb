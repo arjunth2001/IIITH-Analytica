{
 "cells": [
  {
   "cell_type": "code",
   "execution_count": 1,
   "id": "72bf84c8-7e45-4fc2-b25d-9cc10da5b493",
   "metadata": {},
   "outputs": [],
   "source": [
    "import pandas as pd"
   ]
  },
  {
   "cell_type": "code",
   "execution_count": 2,
   "id": "146f58c0-4c2f-4925-9cd0-a274f270a0ad",
   "metadata": {},
   "outputs": [],
   "source": [
    "def get_df(path):\n",
    "    df = pd.read_csv(path, sep=\"\\t\",header=0)\n",
    "    try:\n",
    "        relevant = df[df.Label!=\"Irrelevant\"].reset_index()\n",
    "    except:\n",
    "        relevant = df\n",
    "    docs = list(set(df.DocID))\n",
    "    contexts = {i:[] for i in docs}\n",
    "    for i in range(len(df)):\n",
    "        contexts[df[\"DocID\"][i]].append(df[\"Segment\"][i])\n",
    "    contexts = {i : \" \".join(list(set(contexts[i]))) for i in docs}\n",
    "    relevant[\"context\"] = relevant[\"DocID\"].apply(lambda x: contexts[x])\n",
    "    relevant[\"answer_start\"] = relevant[\"DocID\"].apply(lambda x: 0)\n",
    "    for idx in range(len(relevant)):\n",
    "        relevant[\"answer_start\"][idx] = relevant[\"context\"][idx].index(relevant[\"Segment\"][idx])\n",
    "    relevant = relevant[[\"DocID\",\"Segment\",\"context\",\"answer_start\",\"Query\"]]\n",
    "    relevant.columns=[\"DocID\",\"text\",\"context\",\"answer_start\",\"question\"]\n",
    "    relevant = relevant.drop_duplicates(keep=\"last\",subset=[\"context\",\"question\"]).reset_index(drop = True)\n",
    "    return relevant"
   ]
  },
  {
   "cell_type": "code",
   "execution_count": 3,
   "id": "8617e0da-447e-4b40-a2e6-f719ad94a8c2",
   "metadata": {},
   "outputs": [
    {
     "name": "stderr",
     "output_type": "stream",
     "text": [
      "/Users/arjunth2001/opt/miniconda3/envs/op_project/lib/python3.7/site-packages/ipykernel_launcher.py:15: SettingWithCopyWarning: \n",
      "A value is trying to be set on a copy of a slice from a DataFrame\n",
      "\n",
      "See the caveats in the documentation: https://pandas.pydata.org/pandas-docs/stable/user_guide/indexing.html#returning-a-view-versus-a-copy\n",
      "  from ipykernel import kernelapp as app\n"
     ]
    }
   ],
   "source": [
    "df = get_df(\"PrivacyQA_EMNLP/data/policy_train_data.csv\")"
   ]
  },
  {
   "cell_type": "code",
   "execution_count": 4,
   "id": "6a29bf8a-f2c2-4e97-8a9e-24b3e9a8916e",
   "metadata": {},
   "outputs": [
    {
     "name": "stderr",
     "output_type": "stream",
     "text": [
      "/Users/arjunth2001/opt/miniconda3/envs/op_project/lib/python3.7/site-packages/ipykernel_launcher.py:15: SettingWithCopyWarning: \n",
      "A value is trying to be set on a copy of a slice from a DataFrame\n",
      "\n",
      "See the caveats in the documentation: https://pandas.pydata.org/pandas-docs/stable/user_guide/indexing.html#returning-a-view-versus-a-copy\n",
      "  from ipykernel import kernelapp as app\n"
     ]
    }
   ],
   "source": [
    "result = pd.concat([df,get_df(\"PrivacyQA_EMNLP/data/policy_test_data.csv\")])"
   ]
  },
  {
   "cell_type": "code",
   "execution_count": 5,
   "id": "78810f02-66a6-4dda-8d23-59e970f529d8",
   "metadata": {},
   "outputs": [],
   "source": [
    "result=result.reset_index(drop = True)"
   ]
  },
  {
   "cell_type": "code",
   "execution_count": 6,
   "id": "f9bce3ea-5365-4db7-ba0b-39a111b6df41",
   "metadata": {},
   "outputs": [],
   "source": [
    "result.to_csv(\"PrivacyQA_EMNLP.csv\",index=False)"
   ]
  },
  {
   "cell_type": "code",
   "execution_count": 7,
   "id": "48e18b07-a294-4da5-bb1e-8ca8343f3558",
   "metadata": {},
   "outputs": [
    {
     "data": {
      "text/html": [
       "<div>\n",
       "<style scoped>\n",
       "    .dataframe tbody tr th:only-of-type {\n",
       "        vertical-align: middle;\n",
       "    }\n",
       "\n",
       "    .dataframe tbody tr th {\n",
       "        vertical-align: top;\n",
       "    }\n",
       "\n",
       "    .dataframe thead th {\n",
       "        text-align: right;\n",
       "    }\n",
       "</style>\n",
       "<table border=\"1\" class=\"dataframe\">\n",
       "  <thead>\n",
       "    <tr style=\"text-align: right;\">\n",
       "      <th></th>\n",
       "      <th>DocID</th>\n",
       "      <th>text</th>\n",
       "      <th>context</th>\n",
       "      <th>answer_start</th>\n",
       "      <th>question</th>\n",
       "    </tr>\n",
       "  </thead>\n",
       "  <tbody>\n",
       "    <tr>\n",
       "      <th>0</th>\n",
       "      <td>Cake Web Browser _1</td>\n",
       "      <td>We collect, store and use your data in order ...</td>\n",
       "      <td>Deliver, improve, debug, and maintain our pro...</td>\n",
       "      <td>4864</td>\n",
       "      <td>do you keep the data of mine and upload to you...</td>\n",
       "    </tr>\n",
       "    <tr>\n",
       "      <th>1</th>\n",
       "      <td>Cake Web Browser _1</td>\n",
       "      <td>We may ask for app permissions (for example, w...</td>\n",
       "      <td>Deliver, improve, debug, and maintain our pro...</td>\n",
       "      <td>7527</td>\n",
       "      <td>do you know and use my location</td>\n",
       "    </tr>\n",
       "    <tr>\n",
       "      <th>2</th>\n",
       "      <td>Cake Web Browser _1</td>\n",
       "      <td>To any person as required by law</td>\n",
       "      <td>Deliver, improve, debug, and maintain our pro...</td>\n",
       "      <td>7024</td>\n",
       "      <td>do you sell my data</td>\n",
       "    </tr>\n",
       "    <tr>\n",
       "      <th>3</th>\n",
       "      <td>Cake Web Browser _1</td>\n",
       "      <td>It is important to understand that using Priva...</td>\n",
       "      <td>Deliver, improve, debug, and maintain our pro...</td>\n",
       "      <td>980</td>\n",
       "      <td>is there any incognito mode</td>\n",
       "    </tr>\n",
       "    <tr>\n",
       "      <th>4</th>\n",
       "      <td>Cake Web Browser _1</td>\n",
       "      <td>To any person as required by law</td>\n",
       "      <td>Deliver, improve, debug, and maintain our pro...</td>\n",
       "      <td>7024</td>\n",
       "      <td>is my information shared with anyone?</td>\n",
       "    </tr>\n",
       "    <tr>\n",
       "      <th>...</th>\n",
       "      <td>...</td>\n",
       "      <td>...</td>\n",
       "      <td>...</td>\n",
       "      <td>...</td>\n",
       "      <td>...</td>\n",
       "    </tr>\n",
       "    <tr>\n",
       "      <th>1318</th>\n",
       "      <td>Viber Messenger _8</td>\n",
       "      <td>Previous Policy PDF VersionViber Privacy Polic...</td>\n",
       "      <td>The Rakuten Group Binding Corporate Rules can ...</td>\n",
       "      <td>25711</td>\n",
       "      <td>what personal information will be required for...</td>\n",
       "    </tr>\n",
       "    <tr>\n",
       "      <th>1319</th>\n",
       "      <td>Viber Messenger _8</td>\n",
       "      <td>Previous Policy PDF VersionViber Privacy Polic...</td>\n",
       "      <td>The Rakuten Group Binding Corporate Rules can ...</td>\n",
       "      <td>25711</td>\n",
       "      <td>will you ever sell my personal information to ...</td>\n",
       "    </tr>\n",
       "    <tr>\n",
       "      <th>1320</th>\n",
       "      <td>Viber Messenger _8</td>\n",
       "      <td>Previous Policy PDF VersionViber Privacy Polic...</td>\n",
       "      <td>The Rakuten Group Binding Corporate Rules can ...</td>\n",
       "      <td>25711</td>\n",
       "      <td>how is my information protected when i'm using...</td>\n",
       "    </tr>\n",
       "    <tr>\n",
       "      <th>1321</th>\n",
       "      <td>Viber Messenger _8</td>\n",
       "      <td>Previous Policy PDF VersionViber Privacy Polic...</td>\n",
       "      <td>The Rakuten Group Binding Corporate Rules can ...</td>\n",
       "      <td>25711</td>\n",
       "      <td>who will be able to see my information and/or ...</td>\n",
       "    </tr>\n",
       "    <tr>\n",
       "      <th>1322</th>\n",
       "      <td>Viber Messenger _8</td>\n",
       "      <td>Previous Policy PDF VersionViber Privacy Polic...</td>\n",
       "      <td>The Rakuten Group Binding Corporate Rules can ...</td>\n",
       "      <td>25711</td>\n",
       "      <td>what control do i have as a user to limit the ...</td>\n",
       "    </tr>\n",
       "  </tbody>\n",
       "</table>\n",
       "<p>1323 rows × 5 columns</p>\n",
       "</div>"
      ],
      "text/plain": [
       "                    DocID                                               text  \\\n",
       "0     Cake Web Browser _1   We collect, store and use your data in order ...   \n",
       "1     Cake Web Browser _1  We may ask for app permissions (for example, w...   \n",
       "2     Cake Web Browser _1                   To any person as required by law   \n",
       "3     Cake Web Browser _1  It is important to understand that using Priva...   \n",
       "4     Cake Web Browser _1                   To any person as required by law   \n",
       "...                   ...                                                ...   \n",
       "1318   Viber Messenger _8  Previous Policy PDF VersionViber Privacy Polic...   \n",
       "1319   Viber Messenger _8  Previous Policy PDF VersionViber Privacy Polic...   \n",
       "1320   Viber Messenger _8  Previous Policy PDF VersionViber Privacy Polic...   \n",
       "1321   Viber Messenger _8  Previous Policy PDF VersionViber Privacy Polic...   \n",
       "1322   Viber Messenger _8  Previous Policy PDF VersionViber Privacy Polic...   \n",
       "\n",
       "                                                context  answer_start  \\\n",
       "0      Deliver, improve, debug, and maintain our pro...          4864   \n",
       "1      Deliver, improve, debug, and maintain our pro...          7527   \n",
       "2      Deliver, improve, debug, and maintain our pro...          7024   \n",
       "3      Deliver, improve, debug, and maintain our pro...           980   \n",
       "4      Deliver, improve, debug, and maintain our pro...          7024   \n",
       "...                                                 ...           ...   \n",
       "1318  The Rakuten Group Binding Corporate Rules can ...         25711   \n",
       "1319  The Rakuten Group Binding Corporate Rules can ...         25711   \n",
       "1320  The Rakuten Group Binding Corporate Rules can ...         25711   \n",
       "1321  The Rakuten Group Binding Corporate Rules can ...         25711   \n",
       "1322  The Rakuten Group Binding Corporate Rules can ...         25711   \n",
       "\n",
       "                                               question  \n",
       "0     do you keep the data of mine and upload to you...  \n",
       "1                       do you know and use my location  \n",
       "2                                   do you sell my data  \n",
       "3                           is there any incognito mode  \n",
       "4                 is my information shared with anyone?  \n",
       "...                                                 ...  \n",
       "1318  what personal information will be required for...  \n",
       "1319  will you ever sell my personal information to ...  \n",
       "1320  how is my information protected when i'm using...  \n",
       "1321  who will be able to see my information and/or ...  \n",
       "1322  what control do i have as a user to limit the ...  \n",
       "\n",
       "[1323 rows x 5 columns]"
      ]
     },
     "execution_count": 7,
     "metadata": {},
     "output_type": "execute_result"
    }
   ],
   "source": [
    "result"
   ]
  },
  {
   "cell_type": "code",
   "execution_count": null,
   "id": "f8017418-9583-4ee8-8095-fb1ffb4daefa",
   "metadata": {},
   "outputs": [],
   "source": []
  }
 ],
 "metadata": {
  "kernelspec": {
   "display_name": "Python 3 (ipykernel)",
   "language": "python",
   "name": "python3"
  },
  "language_info": {
   "codemirror_mode": {
    "name": "ipython",
    "version": 3
   },
   "file_extension": ".py",
   "mimetype": "text/x-python",
   "name": "python",
   "nbconvert_exporter": "python",
   "pygments_lexer": "ipython3",
   "version": "3.7.0"
  }
 },
 "nbformat": 4,
 "nbformat_minor": 5
}

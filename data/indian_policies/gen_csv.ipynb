{
 "cells": [
  {
   "cell_type": "code",
   "execution_count": 1,
   "id": "60d121d8-79d2-45b7-b7a4-891f37bbbf7d",
   "metadata": {},
   "outputs": [],
   "source": [
    "import os\n",
    "from bs4 import BeautifulSoup\n",
    "import pandas as pd\n",
    "files = [i for i in os.listdir(\"raw_htmls\") if \".html\" in i]"
   ]
  },
  {
   "cell_type": "code",
   "execution_count": 2,
   "id": "b1d0aa7a-9a11-4c60-9929-78c4b31c25bf",
   "metadata": {},
   "outputs": [],
   "source": [
    "names = []\n",
    "bodies = []\n",
    "for file in files:\n",
    "    try:\n",
    "        with open(f\"raw_htmls/{file}\") as fp:\n",
    "            text=[i for i in BeautifulSoup(fp, \"html.parser\").stripped_strings if len(i.split())>=6]\n",
    "        bodies.append(list(text))\n",
    "        names.append(file.replace(\".html\",\"\"))\n",
    "    except:\n",
    "        print(file)"
   ]
  },
  {
   "cell_type": "code",
   "execution_count": 3,
   "id": "6c0ed84b-e9c2-4a51-9968-f8c0dc873241",
   "metadata": {},
   "outputs": [],
   "source": [
    "df = pd.DataFrame({\"name\":names,\"body\":bodies})"
   ]
  },
  {
   "cell_type": "code",
   "execution_count": 4,
   "id": "a98d3365-c6cf-4d3c-90c4-a00e727dd45c",
   "metadata": {},
   "outputs": [],
   "source": [
    "df.to_csv(\"indian_policies.csv\",index=False)"
   ]
  },
  {
   "cell_type": "code",
   "execution_count": 5,
   "id": "d4f6fd7b-4a86-4e86-9221-678635b20244",
   "metadata": {},
   "outputs": [
    {
     "data": {
      "text/plain": [
       "95"
      ]
     },
     "execution_count": 5,
     "metadata": {},
     "output_type": "execute_result"
    }
   ],
   "source": [
    "len(df)"
   ]
  },
  {
   "cell_type": "code",
   "execution_count": 7,
   "id": "3d74534b-6443-4274-8fc5-2214df6bd7a9",
   "metadata": {},
   "outputs": [],
   "source": [
    "total_indian = 99"
   ]
  },
  {
   "cell_type": "code",
   "execution_count": null,
   "id": "9afa2596-3beb-42fe-810b-903c8e289ccc",
   "metadata": {},
   "outputs": [],
   "source": []
  }
 ],
 "metadata": {
  "kernelspec": {
   "display_name": "Python 3",
   "language": "python",
   "name": "python3"
  },
  "language_info": {
   "codemirror_mode": {
    "name": "ipython",
    "version": 3
   },
   "file_extension": ".py",
   "mimetype": "text/x-python",
   "name": "python",
   "nbconvert_exporter": "python",
   "pygments_lexer": "ipython3",
   "version": "3.7.11"
  }
 },
 "nbformat": 4,
 "nbformat_minor": 5
}

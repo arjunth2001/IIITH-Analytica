{
 "cells": [
  {
   "cell_type": "code",
   "execution_count": 1,
   "id": "a1aca873-2aa1-4b06-ba3b-2bb80196b797",
   "metadata": {},
   "outputs": [],
   "source": [
    "import json\n",
    "import pandas as pd\n",
    "import os"
   ]
  },
  {
   "cell_type": "code",
   "execution_count": 2,
   "id": "c7d1603c-065d-4b62-9218-3346c7a8a054",
   "metadata": {},
   "outputs": [],
   "source": [
    "files = os.listdir(\"PolicyQA/data\")"
   ]
  },
  {
   "cell_type": "code",
   "execution_count": 3,
   "id": "647d4f85-87f6-430f-b798-21944475b71e",
   "metadata": {},
   "outputs": [],
   "source": [
    "files = [f for f in files if \".json\" in f]"
   ]
  },
  {
   "cell_type": "code",
   "execution_count": 4,
   "id": "2ed724fc-eb33-4866-82d3-db878d2b83d3",
   "metadata": {},
   "outputs": [],
   "source": [
    "answers=[]\n",
    "contexts1=[]\n",
    "contexts2=[]\n",
    "summaries=[]\n",
    "questions=[]\n",
    "answer_starts=[]\n",
    "for file in files:\n",
    "    with open(f\"PolicyQA/data/{file}\") as f:\n",
    "        data = json.load(f)  \n",
    "    for docs in data[\"data\"]:\n",
    "        for para in docs[\"paragraphs\"]:\n",
    "            context = para[\"context\"]\n",
    "            summary = para[\"summary\"]\n",
    "            contexts1.append(context)\n",
    "            summaries.append(summary)\n",
    "            for qna in para[\"qas\"]:\n",
    "                question = qna[\"question\"]\n",
    "                for ans in qna[\"answers\"]:\n",
    "                    text = ans[\"text\"]\n",
    "                    answer_start = ans[\"answer_start\"]\n",
    "                    questions.append(question)\n",
    "                    answers.append(text)\n",
    "                    answer_starts.append(answer_start)\n",
    "                    contexts2.append(context)"
   ]
  },
  {
   "cell_type": "code",
   "execution_count": 5,
   "id": "36e48dd2-140f-4379-828e-d33bb9cb1c1f",
   "metadata": {},
   "outputs": [],
   "source": [
    "df = pd.DataFrame({\"text\":contexts1,\"summary\":summaries})\n",
    "df.to_csv(\"policyQA_Summaries.csv\",index=False)"
   ]
  },
  {
   "cell_type": "code",
   "execution_count": 6,
   "id": "4093d2d7-e16a-4531-92a6-d29263392e67",
   "metadata": {},
   "outputs": [],
   "source": [
    "df = pd.DataFrame({\"context\":contexts2,\"answer\":answers,\"question\":questions,\"start\":answer_starts})\n",
    "df.to_csv(\"policyQA.csv\",index=False)"
   ]
  },
  {
   "cell_type": "code",
   "execution_count": null,
   "id": "b4d79cd1-d7bc-44f2-8b79-49afb6f9e7a4",
   "metadata": {},
   "outputs": [],
   "source": []
  }
 ],
 "metadata": {
  "kernelspec": {
   "display_name": "Python 3",
   "language": "python",
   "name": "python3"
  },
  "language_info": {
   "codemirror_mode": {
    "name": "ipython",
    "version": 3
   },
   "file_extension": ".py",
   "mimetype": "text/x-python",
   "name": "python",
   "nbconvert_exporter": "python",
   "pygments_lexer": "ipython3",
   "version": "3.7.11"
  }
 },
 "nbformat": 4,
 "nbformat_minor": 5
}

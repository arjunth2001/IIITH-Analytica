{
 "cells": [
  {
   "cell_type": "code",
   "execution_count": 1,
   "id": "7814ebf7-4423-4512-92e0-ad3b4657a8cc",
   "metadata": {},
   "outputs": [],
   "source": [
    "import pandas as pd"
   ]
  },
  {
   "cell_type": "code",
   "execution_count": 2,
   "id": "63fbfddd-c55a-41cb-9707-c2757549b7fc",
   "metadata": {},
   "outputs": [],
   "source": [
    "df = pd.read_csv(\"policyQA_Summaries.csv\")"
   ]
  },
  {
   "cell_type": "code",
   "execution_count": 3,
   "id": "1712f926-2617-4a63-9f6e-e7a34215309e",
   "metadata": {},
   "outputs": [],
   "source": [
    "df[\"summary\"]=df[\"summary\"].apply(lambda x: \" \".join(eval(x)))"
   ]
  },
  {
   "cell_type": "code",
   "execution_count": 4,
   "id": "8f733646-74f4-4e14-9104-dfcedbba9b8b",
   "metadata": {},
   "outputs": [],
   "source": [
    "df2 = pd.read_csv(\"tldr_legal.csv\")"
   ]
  },
  {
   "cell_type": "code",
   "execution_count": 5,
   "id": "017bd063-ba27-4ceb-ae86-d82470bf8d14",
   "metadata": {},
   "outputs": [],
   "source": [
    "df3 = pd.read_csv(\"tosdr.csv\")"
   ]
  },
  {
   "cell_type": "code",
   "execution_count": 6,
   "id": "647d1636-bea2-480e-824b-e4b8981fe37a",
   "metadata": {},
   "outputs": [],
   "source": [
    "df3.columns=[\"text\",\"summary\"]"
   ]
  },
  {
   "cell_type": "code",
   "execution_count": 7,
   "id": "69215824-3915-4162-80c7-6fb3691b244e",
   "metadata": {},
   "outputs": [
    {
     "name": "stdout",
     "output_type": "stream",
     "text": [
      "3263\n",
      "446\n",
      "17395\n"
     ]
    }
   ],
   "source": [
    "print(len(df))\n",
    "print(len(df2))\n",
    "print(len(df3))"
   ]
  },
  {
   "cell_type": "code",
   "execution_count": 8,
   "id": "91649d41-c2aa-4b88-831e-fad1380eeb7c",
   "metadata": {},
   "outputs": [
    {
     "data": {
      "text/html": [
       "<div>\n",
       "<style scoped>\n",
       "    .dataframe tbody tr th:only-of-type {\n",
       "        vertical-align: middle;\n",
       "    }\n",
       "\n",
       "    .dataframe tbody tr th {\n",
       "        vertical-align: top;\n",
       "    }\n",
       "\n",
       "    .dataframe thead th {\n",
       "        text-align: right;\n",
       "    }\n",
       "</style>\n",
       "<table border=\"1\" class=\"dataframe\">\n",
       "  <thead>\n",
       "    <tr style=\"text-align: right;\">\n",
       "      <th></th>\n",
       "      <th>text</th>\n",
       "      <th>summary</th>\n",
       "    </tr>\n",
       "  </thead>\n",
       "  <tbody>\n",
       "    <tr>\n",
       "      <th>0</th>\n",
       "      <td>When you visit the website over http, you are ...</td>\n",
       "      <td>https is not used by default</td>\n",
       "    </tr>\n",
       "    <tr>\n",
       "      <th>1</th>\n",
       "      <td>YOU AND NETFLIX AGREE THAT EACH MAY BRING CLAI...</td>\n",
       "      <td>You wave your right to a class action.</td>\n",
       "    </tr>\n",
       "    <tr>\n",
       "      <th>2</th>\n",
       "      <td>Google may also stop providing Services to you...</td>\n",
       "      <td>Google may stop providing services to you at a...</td>\n",
       "    </tr>\n",
       "    <tr>\n",
       "      <th>3</th>\n",
       "      <td>We may update this Privacy Policy from time to...</td>\n",
       "      <td>The service may change its terms at any time, ...</td>\n",
       "    </tr>\n",
       "    <tr>\n",
       "      <th>4</th>\n",
       "      <td>Grammarly's Privacy Policy is easy to read. It...</td>\n",
       "      <td>The terms for this service are easy to read</td>\n",
       "    </tr>\n",
       "    <tr>\n",
       "      <th>...</th>\n",
       "      <td>...</td>\n",
       "      <td>...</td>\n",
       "    </tr>\n",
       "    <tr>\n",
       "      <th>17390</th>\n",
       "      <td>Although we may use third-party vendors, subco...</td>\n",
       "      <td>Third parties are involved in operating the se...</td>\n",
       "    </tr>\n",
       "    <tr>\n",
       "      <th>17391</th>\n",
       "      <td>we do not permit third-party ad networks or si...</td>\n",
       "      <td>Your personal data is not shared with third pa...</td>\n",
       "    </tr>\n",
       "    <tr>\n",
       "      <th>17392</th>\n",
       "      <td>FreewareFiles\\r\\nThe Privacy Policy\\r</td>\n",
       "      <td>You maintain ownership of your content</td>\n",
       "    </tr>\n",
       "    <tr>\n",
       "      <th>17393</th>\n",
       "      <td>Today, Lichess users play more than a million ...</td>\n",
       "      <td>Your personal data is not sold</td>\n",
       "    </tr>\n",
       "    <tr>\n",
       "      <th>17394</th>\n",
       "      <td>In some circumstances you have the right to th...</td>\n",
       "      <td>You can delete your content from this service</td>\n",
       "    </tr>\n",
       "  </tbody>\n",
       "</table>\n",
       "<p>17395 rows × 2 columns</p>\n",
       "</div>"
      ],
      "text/plain": [
       "                                                    text  \\\n",
       "0      When you visit the website over http, you are ...   \n",
       "1      YOU AND NETFLIX AGREE THAT EACH MAY BRING CLAI...   \n",
       "2      Google may also stop providing Services to you...   \n",
       "3      We may update this Privacy Policy from time to...   \n",
       "4      Grammarly's Privacy Policy is easy to read. It...   \n",
       "...                                                  ...   \n",
       "17390  Although we may use third-party vendors, subco...   \n",
       "17391  we do not permit third-party ad networks or si...   \n",
       "17392              FreewareFiles\\r\\nThe Privacy Policy\\r   \n",
       "17393  Today, Lichess users play more than a million ...   \n",
       "17394  In some circumstances you have the right to th...   \n",
       "\n",
       "                                                 summary  \n",
       "0                           https is not used by default  \n",
       "1                 You wave your right to a class action.  \n",
       "2      Google may stop providing services to you at a...  \n",
       "3      The service may change its terms at any time, ...  \n",
       "4            The terms for this service are easy to read  \n",
       "...                                                  ...  \n",
       "17390  Third parties are involved in operating the se...  \n",
       "17391  Your personal data is not shared with third pa...  \n",
       "17392             You maintain ownership of your content  \n",
       "17393                     Your personal data is not sold  \n",
       "17394      You can delete your content from this service  \n",
       "\n",
       "[17395 rows x 2 columns]"
      ]
     },
     "execution_count": 8,
     "metadata": {},
     "output_type": "execute_result"
    }
   ],
   "source": [
    "df3"
   ]
  },
  {
   "cell_type": "code",
   "execution_count": 9,
   "id": "ee688efd-7e9c-4f0c-8914-f1215c7b8c8d",
   "metadata": {},
   "outputs": [],
   "source": [
    "result = pd.concat([df,df2,df3])\n",
    "result=result.reset_index(drop = True)"
   ]
  },
  {
   "cell_type": "code",
   "execution_count": 10,
   "id": "9b15b2d3-6c78-438f-bbc7-d07c6ff490d0",
   "metadata": {},
   "outputs": [
    {
     "data": {
      "text/html": [
       "<div>\n",
       "<style scoped>\n",
       "    .dataframe tbody tr th:only-of-type {\n",
       "        vertical-align: middle;\n",
       "    }\n",
       "\n",
       "    .dataframe tbody tr th {\n",
       "        vertical-align: top;\n",
       "    }\n",
       "\n",
       "    .dataframe thead th {\n",
       "        text-align: right;\n",
       "    }\n",
       "</style>\n",
       "<table border=\"1\" class=\"dataframe\">\n",
       "  <thead>\n",
       "    <tr style=\"text-align: right;\">\n",
       "      <th></th>\n",
       "      <th>text</th>\n",
       "      <th>summary</th>\n",
       "    </tr>\n",
       "  </thead>\n",
       "  <tbody>\n",
       "    <tr>\n",
       "      <th>0</th>\n",
       "      <td>Last Updated on May 22, 2015</td>\n",
       "      <td>The text does not fit into our label scheme. T...</td>\n",
       "    </tr>\n",
       "    <tr>\n",
       "      <th>1</th>\n",
       "      <td>New Orleans Tourism Marketing Corporation (\"NO...</td>\n",
       "      <td>The site collects your unspecified information...</td>\n",
       "    </tr>\n",
       "    <tr>\n",
       "      <th>2</th>\n",
       "      <td>NOTMC controls and operates its business and O...</td>\n",
       "      <td>The policy makes a statement about data from a...</td>\n",
       "    </tr>\n",
       "    <tr>\n",
       "      <th>3</th>\n",
       "      <td>We may change our Privacy Policy, so please ch...</td>\n",
       "      <td>When a change of an unspecified nature is made...</td>\n",
       "    </tr>\n",
       "    <tr>\n",
       "      <th>4</th>\n",
       "      <td>You can jump to specific areas of our Privacy ...</td>\n",
       "      <td>The policy makes a statement about how data fr...</td>\n",
       "    </tr>\n",
       "    <tr>\n",
       "      <th>...</th>\n",
       "      <td>...</td>\n",
       "      <td>...</td>\n",
       "    </tr>\n",
       "    <tr>\n",
       "      <th>21099</th>\n",
       "      <td>Although we may use third-party vendors, subco...</td>\n",
       "      <td>Third parties are involved in operating the se...</td>\n",
       "    </tr>\n",
       "    <tr>\n",
       "      <th>21100</th>\n",
       "      <td>we do not permit third-party ad networks or si...</td>\n",
       "      <td>Your personal data is not shared with third pa...</td>\n",
       "    </tr>\n",
       "    <tr>\n",
       "      <th>21101</th>\n",
       "      <td>FreewareFiles\\r\\nThe Privacy Policy\\r</td>\n",
       "      <td>You maintain ownership of your content</td>\n",
       "    </tr>\n",
       "    <tr>\n",
       "      <th>21102</th>\n",
       "      <td>Today, Lichess users play more than a million ...</td>\n",
       "      <td>Your personal data is not sold</td>\n",
       "    </tr>\n",
       "    <tr>\n",
       "      <th>21103</th>\n",
       "      <td>In some circumstances you have the right to th...</td>\n",
       "      <td>You can delete your content from this service</td>\n",
       "    </tr>\n",
       "  </tbody>\n",
       "</table>\n",
       "<p>21104 rows × 2 columns</p>\n",
       "</div>"
      ],
      "text/plain": [
       "                                                    text  \\\n",
       "0                           Last Updated on May 22, 2015   \n",
       "1      New Orleans Tourism Marketing Corporation (\"NO...   \n",
       "2      NOTMC controls and operates its business and O...   \n",
       "3      We may change our Privacy Policy, so please ch...   \n",
       "4      You can jump to specific areas of our Privacy ...   \n",
       "...                                                  ...   \n",
       "21099  Although we may use third-party vendors, subco...   \n",
       "21100  we do not permit third-party ad networks or si...   \n",
       "21101              FreewareFiles\\r\\nThe Privacy Policy\\r   \n",
       "21102  Today, Lichess users play more than a million ...   \n",
       "21103  In some circumstances you have the right to th...   \n",
       "\n",
       "                                                 summary  \n",
       "0      The text does not fit into our label scheme. T...  \n",
       "1      The site collects your unspecified information...  \n",
       "2      The policy makes a statement about data from a...  \n",
       "3      When a change of an unspecified nature is made...  \n",
       "4      The policy makes a statement about how data fr...  \n",
       "...                                                  ...  \n",
       "21099  Third parties are involved in operating the se...  \n",
       "21100  Your personal data is not shared with third pa...  \n",
       "21101             You maintain ownership of your content  \n",
       "21102                     Your personal data is not sold  \n",
       "21103      You can delete your content from this service  \n",
       "\n",
       "[21104 rows x 2 columns]"
      ]
     },
     "execution_count": 10,
     "metadata": {},
     "output_type": "execute_result"
    }
   ],
   "source": [
    "result"
   ]
  },
  {
   "cell_type": "code",
   "execution_count": 11,
   "id": "45b02fee-bb39-43dd-a600-104bae780e75",
   "metadata": {},
   "outputs": [],
   "source": [
    "train=result.sample(frac=0.8,random_state=200) #random state is a seed value\n",
    "test=result.drop(train.index)"
   ]
  },
  {
   "cell_type": "code",
   "execution_count": 12,
   "id": "9cba294c-9ec2-4987-9529-e80b349d8cf4",
   "metadata": {},
   "outputs": [],
   "source": [
    "train = train.reset_index(drop = True)\n",
    "test= test.reset_index(drop = True)"
   ]
  },
  {
   "cell_type": "code",
   "execution_count": 13,
   "id": "5a370999-542a-4a6a-9e05-b3ee2a22580e",
   "metadata": {},
   "outputs": [],
   "source": [
    "train.to_csv(\"../datasets/SUM/train.csv\",index=False)"
   ]
  },
  {
   "cell_type": "code",
   "execution_count": 14,
   "id": "b7db8ace-1d42-44ec-b6ca-004b28c67ddb",
   "metadata": {},
   "outputs": [],
   "source": [
    "test.to_csv(\"../datasets/SUM/val.csv\",index=False)"
   ]
  },
  {
   "cell_type": "code",
   "execution_count": null,
   "id": "2a72f5b1-07eb-4f17-a286-17700cb824ee",
   "metadata": {},
   "outputs": [],
   "source": []
  }
 ],
 "metadata": {
  "kernelspec": {
   "display_name": "Python 3",
   "language": "python",
   "name": "python3"
  },
  "language_info": {
   "codemirror_mode": {
    "name": "ipython",
    "version": 3
   },
   "file_extension": ".py",
   "mimetype": "text/x-python",
   "name": "python",
   "nbconvert_exporter": "python",
   "pygments_lexer": "ipython3",
   "version": "3.7.11"
  }
 },
 "nbformat": 4,
 "nbformat_minor": 5
}

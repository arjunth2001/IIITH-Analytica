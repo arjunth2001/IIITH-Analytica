{
 "cells": [
  {
   "cell_type": "code",
   "execution_count": 1,
   "id": "0ec4ad30-0f2e-434e-98f6-cb6e34bc9025",
   "metadata": {},
   "outputs": [],
   "source": [
    "import pandas as pd\n",
    "import json"
   ]
  },
  {
   "cell_type": "code",
   "execution_count": 2,
   "id": "a6bc517a-d8dc-4880-92d2-3440d471588b",
   "metadata": {},
   "outputs": [],
   "source": [
    "with open(\"tldr_legal.json\") as f:\n",
    "    data = json.load(f)"
   ]
  },
  {
   "cell_type": "code",
   "execution_count": 5,
   "id": "84266127-2fd2-4a15-b4f7-d653c2d19f12",
   "metadata": {},
   "outputs": [],
   "source": [
    "original_text=[]\n",
    "summary = []\n",
    "for key, value in data.items():\n",
    "    original_text.append(value[\"original_text\"])\n",
    "    summary.append(value[\"reference_summary\"])    "
   ]
  },
  {
   "cell_type": "code",
   "execution_count": 6,
   "id": "51adcb85-ecb5-4b7f-b684-cad8f2fc1fe7",
   "metadata": {},
   "outputs": [],
   "source": [
    "df = pd.DataFrame({\"text\":original_text,\"summary\":summary})"
   ]
  },
  {
   "cell_type": "code",
   "execution_count": 8,
   "id": "66bf7adf-3672-48df-8864-31e2199a39c3",
   "metadata": {},
   "outputs": [],
   "source": [
    "df.to_csv(\"tldr_legal.csv\",index=False)"
   ]
  },
  {
   "cell_type": "code",
   "execution_count": null,
   "id": "291cd57a-db63-48b0-917f-2fd8376275cc",
   "metadata": {},
   "outputs": [],
   "source": []
  }
 ],
 "metadata": {
  "kernelspec": {
   "display_name": "Python 3",
   "language": "python",
   "name": "python3"
  },
  "language_info": {
   "codemirror_mode": {
    "name": "ipython",
    "version": 3
   },
   "file_extension": ".py",
   "mimetype": "text/x-python",
   "name": "python",
   "nbconvert_exporter": "python",
   "pygments_lexer": "ipython3",
   "version": "3.7.11"
  }
 },
 "nbformat": 4,
 "nbformat_minor": 5
}

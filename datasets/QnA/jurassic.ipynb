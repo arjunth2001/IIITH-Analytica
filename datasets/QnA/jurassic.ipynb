{
 "cells": [
  {
   "cell_type": "code",
   "execution_count": 114,
   "id": "d08859a3-4ce3-45b8-860e-dc564745ac34",
   "metadata": {},
   "outputs": [],
   "source": [
    "import pandas as pd\n",
    "from tqdm.auto import tqdm"
   ]
  },
  {
   "cell_type": "code",
   "execution_count": 115,
   "id": "d50be42d-3b10-4fb4-9ed9-8586209251e8",
   "metadata": {},
   "outputs": [],
   "source": [
    "train = pd.read_csv(\"train.csv\")"
   ]
  },
  {
   "cell_type": "code",
   "execution_count": 116,
   "id": "a2fa2dde-1efd-4880-8425-9c8056f5f335",
   "metadata": {},
   "outputs": [],
   "source": [
    "val = pd.read_csv(\"val.csv\")"
   ]
  },
  {
   "cell_type": "code",
   "execution_count": 117,
   "id": "718b2715-2188-40e5-81d8-8fccfbc59ae4",
   "metadata": {},
   "outputs": [],
   "source": [
    "full = pd.concat([train,val])"
   ]
  },
  {
   "cell_type": "code",
   "execution_count": 118,
   "id": "b91f27ab-d5d3-4bf8-bf19-ef82e5a101f1",
   "metadata": {},
   "outputs": [],
   "source": [
    "full = full.sample(7000)"
   ]
  },
  {
   "cell_type": "code",
   "execution_count": 119,
   "id": "de5a4d10-fa02-49d0-8c10-957d400946a3",
   "metadata": {},
   "outputs": [],
   "source": [
    "full.reset_index(drop=True,inplace=True)"
   ]
  },
  {
   "cell_type": "code",
   "execution_count": 120,
   "id": "a4028360-1725-49b7-b18e-072b444788f1",
   "metadata": {},
   "outputs": [
    {
     "data": {
      "text/html": [
       "<div>\n",
       "<style scoped>\n",
       "    .dataframe tbody tr th:only-of-type {\n",
       "        vertical-align: middle;\n",
       "    }\n",
       "\n",
       "    .dataframe tbody tr th {\n",
       "        vertical-align: top;\n",
       "    }\n",
       "\n",
       "    .dataframe thead th {\n",
       "        text-align: right;\n",
       "    }\n",
       "</style>\n",
       "<table border=\"1\" class=\"dataframe\">\n",
       "  <thead>\n",
       "    <tr style=\"text-align: right;\">\n",
       "      <th></th>\n",
       "      <th>text</th>\n",
       "      <th>context</th>\n",
       "      <th>answer_start</th>\n",
       "      <th>question</th>\n",
       "    </tr>\n",
       "  </thead>\n",
       "  <tbody>\n",
       "    <tr>\n",
       "      <th>0</th>\n",
       "      <td>credit card number.</td>\n",
       "      <td>Customers of Our Merchants. A customer who pur...</td>\n",
       "      <td>354</td>\n",
       "      <td>Do you collect my financial information?</td>\n",
       "    </tr>\n",
       "    <tr>\n",
       "      <th>1</th>\n",
       "      <td>collect</td>\n",
       "      <td>Personally Identifiable Information We collect...</td>\n",
       "      <td>39</td>\n",
       "      <td>Will they use the data collected from me?</td>\n",
       "    </tr>\n",
       "    <tr>\n",
       "      <th>2</th>\n",
       "      <td>Web beacons</td>\n",
       "      <td>We also use third-party advertising companies ...</td>\n",
       "      <td>293</td>\n",
       "      <td>Do you keep track of my information?</td>\n",
       "    </tr>\n",
       "    <tr>\n",
       "      <th>3</th>\n",
       "      <td>we may forward your information</td>\n",
       "      <td>We may also allow access to our database by th...</td>\n",
       "      <td>491</td>\n",
       "      <td>How can a third party see my information?</td>\n",
       "    </tr>\n",
       "    <tr>\n",
       "      <th>4</th>\n",
       "      <td>advertisers</td>\n",
       "      <td>Automatic Collection of Information: If you pu...</td>\n",
       "      <td>637</td>\n",
       "      <td>Is my information shared with others for targe...</td>\n",
       "    </tr>\n",
       "    <tr>\n",
       "      <th>...</th>\n",
       "      <td>...</td>\n",
       "      <td>...</td>\n",
       "      <td>...</td>\n",
       "      <td>...</td>\n",
       "    </tr>\n",
       "    <tr>\n",
       "      <th>6995</th>\n",
       "      <td>to verify other information about</td>\n",
       "      <td>C. Information we receive from third parties. ...</td>\n",
       "      <td>284</td>\n",
       "      <td>Does the collected data reveal my identity?</td>\n",
       "    </tr>\n",
       "    <tr>\n",
       "      <th>6996</th>\n",
       "      <td>This Site</td>\n",
       "      <td>5. Cookies This Site uses cookies. \"Cookies\" a...</td>\n",
       "      <td>11</td>\n",
       "      <td>Does the website collect any information when ...</td>\n",
       "    </tr>\n",
       "    <tr>\n",
       "      <th>6997</th>\n",
       "      <td>Web sites</td>\n",
       "      <td>Overview Privacy is of great concern to most u...</td>\n",
       "      <td>237</td>\n",
       "      <td>Do you collect my information on your website?</td>\n",
       "    </tr>\n",
       "    <tr>\n",
       "      <th>6998</th>\n",
       "      <td>The information you may choose to provide</td>\n",
       "      <td>Since our inception in 1978, we have sought to...</td>\n",
       "      <td>249</td>\n",
       "      <td>How do they collect information about users?</td>\n",
       "    </tr>\n",
       "    <tr>\n",
       "      <th>6999</th>\n",
       "      <td>location-based information</td>\n",
       "      <td>We may also collect certain non-personally ide...</td>\n",
       "      <td>276</td>\n",
       "      <td>What types of location data do you collect?</td>\n",
       "    </tr>\n",
       "  </tbody>\n",
       "</table>\n",
       "<p>7000 rows × 4 columns</p>\n",
       "</div>"
      ],
      "text/plain": [
       "                                           text  \\\n",
       "0                           credit card number.   \n",
       "1                                       collect   \n",
       "2                                   Web beacons   \n",
       "3               we may forward your information   \n",
       "4                                   advertisers   \n",
       "...                                         ...   \n",
       "6995          to verify other information about   \n",
       "6996                                  This Site   \n",
       "6997                                  Web sites   \n",
       "6998  The information you may choose to provide   \n",
       "6999                 location-based information   \n",
       "\n",
       "                                                context  answer_start  \\\n",
       "0     Customers of Our Merchants. A customer who pur...           354   \n",
       "1     Personally Identifiable Information We collect...            39   \n",
       "2     We also use third-party advertising companies ...           293   \n",
       "3     We may also allow access to our database by th...           491   \n",
       "4     Automatic Collection of Information: If you pu...           637   \n",
       "...                                                 ...           ...   \n",
       "6995  C. Information we receive from third parties. ...           284   \n",
       "6996  5. Cookies This Site uses cookies. \"Cookies\" a...            11   \n",
       "6997  Overview Privacy is of great concern to most u...           237   \n",
       "6998  Since our inception in 1978, we have sought to...           249   \n",
       "6999  We may also collect certain non-personally ide...           276   \n",
       "\n",
       "                                               question  \n",
       "0              Do you collect my financial information?  \n",
       "1             Will they use the data collected from me?  \n",
       "2                  Do you keep track of my information?  \n",
       "3             How can a third party see my information?  \n",
       "4     Is my information shared with others for targe...  \n",
       "...                                                 ...  \n",
       "6995        Does the collected data reveal my identity?  \n",
       "6996  Does the website collect any information when ...  \n",
       "6997     Do you collect my information on your website?  \n",
       "6998       How do they collect information about users?  \n",
       "6999        What types of location data do you collect?  \n",
       "\n",
       "[7000 rows x 4 columns]"
      ]
     },
     "execution_count": 120,
     "metadata": {},
     "output_type": "execute_result"
    }
   ],
   "source": [
    "full"
   ]
  },
  {
   "cell_type": "code",
   "execution_count": 121,
   "id": "6069bb46-51c0-4c08-83b4-95e25c6102ea",
   "metadata": {},
   "outputs": [
    {
     "data": {
      "application/vnd.jupyter.widget-view+json": {
       "model_id": "7a9e7d8127b947ca9930d6b08b4f7f87",
       "version_major": 2,
       "version_minor": 0
      },
      "text/plain": [
       "  0%|          | 0/7000 [00:00<?, ?it/s]"
      ]
     },
     "metadata": {},
     "output_type": "display_data"
    },
    {
     "name": "stderr",
     "output_type": "stream",
     "text": [
      "/Users/arjunth2001/opt/miniconda3/envs/op_project/lib/python3.7/site-packages/ipykernel_launcher.py:8: SettingWithCopyWarning: \n",
      "A value is trying to be set on a copy of a slice from a DataFrame\n",
      "\n",
      "See the caveats in the documentation: https://pandas.pydata.org/pandas-docs/stable/user_guide/indexing.html#returning-a-view-versus-a-copy\n",
      "  \n",
      "/Users/arjunth2001/opt/miniconda3/envs/op_project/lib/python3.7/site-packages/ipykernel_launcher.py:9: SettingWithCopyWarning: \n",
      "A value is trying to be set on a copy of a slice from a DataFrame\n",
      "\n",
      "See the caveats in the documentation: https://pandas.pydata.org/pandas-docs/stable/user_guide/indexing.html#returning-a-view-versus-a-copy\n",
      "  if __name__ == '__main__':\n"
     ]
    }
   ],
   "source": [
    "full[\"prompt\"]=[\"\"]*len(full)\n",
    "full[\"completion\"]=[\"\"]*len(full)\n",
    "for idx in tqdm(range(len(full))):\n",
    "    context=full[\"context\"][idx].replace(\"\\n\",\"\")\n",
    "    question = full[\"question\"][idx].replace(\"\\n\",\"\")\n",
    "    prompt=f\"Answer the Question based upon the Context.\\nContext: {context}\\nQuestion: {question}\\nAnswer:\\n\"\n",
    "    completion = full[\"text\"][idx].replace(\"\\n\",\"\")\n",
    "    full[\"prompt\"][idx]=prompt\n",
    "    full[\"completion\"][idx]=completion.replace(\"\\n\",\"\")"
   ]
  },
  {
   "cell_type": "code",
   "execution_count": 122,
   "id": "c6cf3359-6157-41cf-ab89-02002b4b934c",
   "metadata": {},
   "outputs": [],
   "source": [
    "full = full[[\"prompt\",\"completion\"]]"
   ]
  },
  {
   "cell_type": "code",
   "execution_count": 123,
   "id": "cfcd828c-5b89-47b0-95bc-72292bd92bf0",
   "metadata": {},
   "outputs": [
    {
     "name": "stdout",
     "output_type": "stream",
     "text": [
      "Answer the Question based upon the Context.\n",
      "Context: Customers of Our Merchants. A customer who purchases a product or service from a Merchant using a credit or debit card, or any other method of payment for which we provide the Merchant with transaction processing services, is required to provide that Merchant with certain Cardholder Data in order to make the purchase, including the customer's name and credit card number. Our Merchants may transmit certain parts of this information to Chase Paymentech for the purpose of processing the transaction. During the course of providing processing services to our Merchants, we may disclose such Cardholder Data to banks, processors, credit and debit card organizations and associations, and other financial institutions that are involved in the course of effecting the transaction represented by the Cardholder Data. In addition, we may disclose some or all of the information we collect, to our affiliated companies or to non-affiliated third parties (subject to contractual confidentiality provisions to protect such information) such as a vendor or service company that we hire to prepare our Merchants' account statements or to provide support or services for one or more of our products. We will not disclose Cardholder Data to any third party, except to facilitate and complete transactions submitted to us by Merchants, or otherwise in the course of providing services to our Merchants, or to comply with federal, state and local laws or the rules and regulations of the respective card organizations or other payment entities (e.g. Visa, MasterCard, American Express, NACHA, etc.).\n",
      "Question: Do you collect my financial information?\n",
      "Answer:\n",
      "\n"
     ]
    }
   ],
   "source": [
    "print(full[\"prompt\"][0])"
   ]
  },
  {
   "cell_type": "code",
   "execution_count": 113,
   "id": "222b4c01-0a04-4c30-a8f4-e36181288dad",
   "metadata": {},
   "outputs": [],
   "source": [
    "full.to_csv(\"jurassic.csv\",index=False)"
   ]
  },
  {
   "cell_type": "code",
   "execution_count": null,
   "id": "6a94ad58-31c0-46d6-b8a8-ca81872f697c",
   "metadata": {},
   "outputs": [],
   "source": []
  }
 ],
 "metadata": {
  "kernelspec": {
   "display_name": "Python 3",
   "language": "python",
   "name": "python3"
  },
  "language_info": {
   "codemirror_mode": {
    "name": "ipython",
    "version": 3
   },
   "file_extension": ".py",
   "mimetype": "text/x-python",
   "name": "python",
   "nbconvert_exporter": "python",
   "pygments_lexer": "ipython3",
   "version": "3.7.11"
  }
 },
 "nbformat": 4,
 "nbformat_minor": 5
}
